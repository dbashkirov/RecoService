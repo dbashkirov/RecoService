{
 "cells": [
  {
   "cell_type": "code",
   "execution_count": 141,
   "outputs": [],
   "source": [
    "import pandas as pd\n",
    "from tqdm.auto import tqdm\n",
    "from pprint import pprint\n",
    "from implicit.nearest_neighbours import CosineRecommender, TFIDFRecommender, BM25Recommender\n",
    "import warnings\n",
    "\n",
    "from rectools import Columns\n",
    "from rectools.dataset import Dataset, Interactions\n",
    "from rectools.metrics import MAP, MeanInvUserFreq, calc_metrics\n",
    "from rectools.models.popular import PopularModel\n",
    "from rectools.models import ImplicitItemKNNWrapperModel\n",
    "from rectools.model_selection import TimeRangeSplitter\n",
    "\n",
    "from src import UserKnn\n",
    "\n",
    "warnings.filterwarnings(\"ignore\")\n",
    "pd.set_option(\"display.max_columns\", None)\n",
    "pd.set_option(\"display.max_colwidth\", 200)"
   ],
   "metadata": {
    "collapsed": false
   }
  },
  {
   "cell_type": "code",
   "execution_count": 134,
   "outputs": [
    {
     "data": {
      "text/plain": "         user_id  item_id   datetime  weight  watched_pct\n5376384   468564     4151 2021-08-22     5.0          0.0\n4931199   767571      483 2021-05-02  8300.0         96.0\n5154463   736985     5853 2021-05-17  3662.0         61.0\n3848150   187996      626 2021-04-13  2781.0         58.0\n4126685    45808    12192 2021-07-14    15.0          0.0",
      "text/html": "<div>\n<style scoped>\n    .dataframe tbody tr th:only-of-type {\n        vertical-align: middle;\n    }\n\n    .dataframe tbody tr th {\n        vertical-align: top;\n    }\n\n    .dataframe thead th {\n        text-align: right;\n    }\n</style>\n<table border=\"1\" class=\"dataframe\">\n  <thead>\n    <tr style=\"text-align: right;\">\n      <th></th>\n      <th>user_id</th>\n      <th>item_id</th>\n      <th>datetime</th>\n      <th>weight</th>\n      <th>watched_pct</th>\n    </tr>\n  </thead>\n  <tbody>\n    <tr>\n      <th>5376384</th>\n      <td>468564</td>\n      <td>4151</td>\n      <td>2021-08-22</td>\n      <td>5.0</td>\n      <td>0.0</td>\n    </tr>\n    <tr>\n      <th>4931199</th>\n      <td>767571</td>\n      <td>483</td>\n      <td>2021-05-02</td>\n      <td>8300.0</td>\n      <td>96.0</td>\n    </tr>\n    <tr>\n      <th>5154463</th>\n      <td>736985</td>\n      <td>5853</td>\n      <td>2021-05-17</td>\n      <td>3662.0</td>\n      <td>61.0</td>\n    </tr>\n    <tr>\n      <th>3848150</th>\n      <td>187996</td>\n      <td>626</td>\n      <td>2021-04-13</td>\n      <td>2781.0</td>\n      <td>58.0</td>\n    </tr>\n    <tr>\n      <th>4126685</th>\n      <td>45808</td>\n      <td>12192</td>\n      <td>2021-07-14</td>\n      <td>15.0</td>\n      <td>0.0</td>\n    </tr>\n  </tbody>\n</table>\n</div>"
     },
     "execution_count": 134,
     "metadata": {},
     "output_type": "execute_result"
    }
   ],
   "source": [
    "interactions_df = pd.read_csv(\"../data_original/interactions.csv\")\n",
    "users = pd.read_csv(\"../data_original/users.csv\")\n",
    "items = pd.read_csv(\"../data_original/items.csv\")\n",
    "\n",
    "interactions_df.rename(columns={\"last_watch_dt\": Columns.Datetime, \"total_dur\": Columns.Weight}, inplace=True)\n",
    "# will cast types and save new pd.DataFrame inside in Interactions.df\n",
    "interactions = Interactions(interactions_df)\n",
    "\n",
    "# ! если хотите быстро прогнать этот ноутбук - раскомментируйте эту строку - она уменьшает данные\n",
    "interactions = Interactions(interactions_df.sample(frac=0.5))\n",
    "\n",
    "interactions.df.head()"
   ],
   "metadata": {
    "collapsed": false
   }
  },
  {
   "cell_type": "code",
   "execution_count": 145,
   "outputs": [],
   "source": [
    "def validate(models: dict, metrics: dict, interactions, n_splits=3, test_size=\"7D\", k=10):\n",
    "    results = []\n",
    "\n",
    "    # Init generator of folds\n",
    "    cv = TimeRangeSplitter(\n",
    "        test_size=test_size,\n",
    "        n_splits=n_splits,\n",
    "        filter_already_seen=True,\n",
    "        filter_cold_items=True,\n",
    "        filter_cold_users=False,\n",
    "    )\n",
    "    fold_iterator = cv.split(interactions, collect_fold_stats=True)\n",
    "\n",
    "    for i_fold, (train_ids, test_ids, fold_info) in enumerate(fold_iterator):\n",
    "        print(f\"\\n==================== Fold {i_fold}\")\n",
    "        pprint(fold_info)\n",
    "\n",
    "        df_train = interactions.df.iloc[train_ids].copy()\n",
    "        df_test = interactions.df.iloc[test_ids][Columns.UserItem].copy()\n",
    "\n",
    "        dataset = Dataset.construct(interactions.df)\n",
    "\n",
    "        cold_users = list(set(df_test.user_id) - set(df_train.user_id))\n",
    "        test_users = list(df_test[\"user_id\"])\n",
    "\n",
    "        df_test = df_test.loc[~df_test[\"user_id\"].isin(cold_users)]\n",
    "\n",
    "        catalog = df_train[Columns.Item].unique()\n",
    "\n",
    "        pop_model = PopularModel()\n",
    "        pop_model.fit(dataset)\n",
    "        pop_recos = pop_model.recommend(cold_users + test_users, dataset=dataset, k=k, filter_viewed=True)\n",
    "        pop_recos[\"rank\"] += k\n",
    "\n",
    "        for model_name, model in models.items():\n",
    "            userknn_model = UserKnn(model=model, N_users=50)\n",
    "            userknn_model.fit(df_train)\n",
    "\n",
    "            recos = userknn_model.predict(df_test)\n",
    "            recos = pd.concat((recos, pop_recos), axis=0, ignore_index=True)\n",
    "            recos.sort_values(by=[\"user_id\", \"rank\"], ascending=True, inplace=True)\n",
    "            recos.drop_duplicates([\"user_id\", \"item_id\"], keep=\"first\", inplace=True)\n",
    "            recos[\"rank\"] = recos.groupby(\"user_id\").cumcount() + 1\n",
    "            recos = recos[recos[\"rank\"] <= k]\n",
    "\n",
    "            metric_values = calc_metrics(\n",
    "                metrics,\n",
    "                reco=recos,\n",
    "                interactions=df_test,\n",
    "                prev_interactions=df_train,\n",
    "                catalog=catalog,\n",
    "            )\n",
    "\n",
    "            fold = {\"fold\": i_fold, \"model\": model_name}\n",
    "            fold.update(metric_values)\n",
    "            results.append(fold)\n",
    "\n",
    "    return results"
   ],
   "metadata": {
    "collapsed": false
   }
  },
  {
   "cell_type": "code",
   "execution_count": 146,
   "outputs": [],
   "source": [
    "N_SPLITS = 3\n",
    "TEST_SIZE = \"7D\""
   ],
   "metadata": {
    "collapsed": false
   }
  },
  {
   "cell_type": "code",
   "execution_count": 137,
   "outputs": [],
   "source": [
    "# calculate several classic (precision@k and recall@k) and \"beyond accuracy\" metrics\n",
    "metrics = {\n",
    "    \"map@10\": MAP(k=10),\n",
    "    \"novelty\": MeanInvUserFreq(k=10),\n",
    "}\n",
    "\n",
    "# few simple models to compare\n",
    "models = {\n",
    "    \"cosine_userknn\": CosineRecommender(),  # implicit\n",
    "    \"tfidf_userknn\": TFIDFRecommender(),\n",
    "    \"bm25\": BM25Recommender(),\n",
    "}"
   ],
   "metadata": {
    "collapsed": false
   }
  },
  {
   "cell_type": "code",
   "execution_count": 138,
   "outputs": [
    {
     "name": "stdout",
     "output_type": "stream",
     "text": [
      "\n",
      "==================== Fold 0\n",
      "{'end': Timestamp('2021-08-09 00:00:00', freq='7D'),\n",
      " 'i_split': 0,\n",
      " 'start': Timestamp('2021-08-02 00:00:00', freq='7D'),\n",
      " 'test': 185509,\n",
      " 'test_items': 5743,\n",
      " 'test_users': 100960,\n",
      " 'train': 2132439,\n",
      " 'train_items': 13417,\n",
      " 'train_users': 601016}\n"
     ]
    },
    {
     "data": {
      "text/plain": "  0%|          | 0/601016 [00:00<?, ?it/s]",
      "application/vnd.jupyter.widget-view+json": {
       "version_major": 2,
       "version_minor": 0,
       "model_id": "8c306c016a0e4fefb796cd35d98b0ac4"
      }
     },
     "metadata": {},
     "output_type": "display_data"
    },
    {
     "data": {
      "text/plain": "  0%|          | 0/601016 [00:00<?, ?it/s]",
      "application/vnd.jupyter.widget-view+json": {
       "version_major": 2,
       "version_minor": 0,
       "model_id": "69d660c403a440128a500677e5c9b6a0"
      }
     },
     "metadata": {},
     "output_type": "display_data"
    },
    {
     "data": {
      "text/plain": "  0%|          | 0/601016 [00:00<?, ?it/s]",
      "application/vnd.jupyter.widget-view+json": {
       "version_major": 2,
       "version_minor": 0,
       "model_id": "6741c6d3efe34296a1409173e1f897c6"
      }
     },
     "metadata": {},
     "output_type": "display_data"
    },
    {
     "name": "stdout",
     "output_type": "stream",
     "text": [
      "\n",
      "==================== Fold 1\n",
      "{'end': Timestamp('2021-08-16 00:00:00', freq='7D'),\n",
      " 'i_split': 1,\n",
      " 'start': Timestamp('2021-08-09 00:00:00', freq='7D'),\n",
      " 'test': 194025,\n",
      " 'test_items': 5841,\n",
      " 'test_users': 105090,\n",
      " 'train': 2323923,\n",
      " 'train_items': 13619,\n",
      " 'train_users': 642433}\n"
     ]
    },
    {
     "data": {
      "text/plain": "  0%|          | 0/642433 [00:00<?, ?it/s]",
      "application/vnd.jupyter.widget-view+json": {
       "version_major": 2,
       "version_minor": 0,
       "model_id": "d96e085e69e246849c3f002a7e460dbb"
      }
     },
     "metadata": {},
     "output_type": "display_data"
    },
    {
     "data": {
      "text/plain": "  0%|          | 0/642433 [00:00<?, ?it/s]",
      "application/vnd.jupyter.widget-view+json": {
       "version_major": 2,
       "version_minor": 0,
       "model_id": "425af9b1169343f78711b80e460220a0"
      }
     },
     "metadata": {},
     "output_type": "display_data"
    },
    {
     "data": {
      "text/plain": "  0%|          | 0/642433 [00:00<?, ?it/s]",
      "application/vnd.jupyter.widget-view+json": {
       "version_major": 2,
       "version_minor": 0,
       "model_id": "956c6c8effc24bfd9da9d0a0b5e7ceb1"
      }
     },
     "metadata": {},
     "output_type": "display_data"
    },
    {
     "name": "stdout",
     "output_type": "stream",
     "text": [
      "\n",
      "==================== Fold 2\n",
      "{'end': Timestamp('2021-08-23 00:00:00', freq='7D'),\n",
      " 'i_split': 2,\n",
      " 'start': Timestamp('2021-08-16 00:00:00', freq='7D'),\n",
      " 'test': 205989,\n",
      " 'test_items': 5830,\n",
      " 'test_users': 111242,\n",
      " 'train': 2525897,\n",
      " 'train_items': 13814,\n",
      " 'train_users': 685628}\n"
     ]
    },
    {
     "data": {
      "text/plain": "  0%|          | 0/685628 [00:00<?, ?it/s]",
      "application/vnd.jupyter.widget-view+json": {
       "version_major": 2,
       "version_minor": 0,
       "model_id": "21929753bab54475abd20166442cf3c0"
      }
     },
     "metadata": {},
     "output_type": "display_data"
    },
    {
     "data": {
      "text/plain": "  0%|          | 0/685628 [00:00<?, ?it/s]",
      "application/vnd.jupyter.widget-view+json": {
       "version_major": 2,
       "version_minor": 0,
       "model_id": "a175dc3b18df46789e29ef078578dc6a"
      }
     },
     "metadata": {},
     "output_type": "display_data"
    },
    {
     "data": {
      "text/plain": "  0%|          | 0/685628 [00:00<?, ?it/s]",
      "application/vnd.jupyter.widget-view+json": {
       "version_major": 2,
       "version_minor": 0,
       "model_id": "85154555e23c4957acacbb3aca0328f4"
      }
     },
     "metadata": {},
     "output_type": "display_data"
    },
    {
     "name": "stdout",
     "output_type": "stream",
     "text": [
      "CPU times: user 1h 31min 27s, sys: 1min 15s, total: 1h 32min 43s\n",
      "Wall time: 1h 34min 4s\n"
     ]
    },
    {
     "data": {
      "text/plain": "                  map@10   novelty\nmodel                             \nbm25            0.001774  6.452797\ncosine_userknn  0.002166  5.631892\ntfidf_userknn   0.003976  5.753848",
      "text/html": "<div>\n<style scoped>\n    .dataframe tbody tr th:only-of-type {\n        vertical-align: middle;\n    }\n\n    .dataframe tbody tr th {\n        vertical-align: top;\n    }\n\n    .dataframe thead th {\n        text-align: right;\n    }\n</style>\n<table border=\"1\" class=\"dataframe\">\n  <thead>\n    <tr style=\"text-align: right;\">\n      <th></th>\n      <th>map@10</th>\n      <th>novelty</th>\n    </tr>\n    <tr>\n      <th>model</th>\n      <th></th>\n      <th></th>\n    </tr>\n  </thead>\n  <tbody>\n    <tr>\n      <th>bm25</th>\n      <td>0.001774</td>\n      <td>6.452797</td>\n    </tr>\n    <tr>\n      <th>cosine_userknn</th>\n      <td>0.002166</td>\n      <td>5.631892</td>\n    </tr>\n    <tr>\n      <th>tfidf_userknn</th>\n      <td>0.003976</td>\n      <td>5.753848</td>\n    </tr>\n  </tbody>\n</table>\n</div>"
     },
     "execution_count": 138,
     "metadata": {},
     "output_type": "execute_result"
    }
   ],
   "source": [
    "%%time\n",
    "\n",
    "results = validate(models, metrics, interactions, N_SPLITS, TEST_SIZE)\n",
    "df_metrics = pd.DataFrame(results)\n",
    "df_metrics.groupby(\"model\").mean()[metrics.keys()]"
   ],
   "metadata": {
    "collapsed": false
   }
  },
  {
   "cell_type": "code",
   "execution_count": 139,
   "outputs": [],
   "source": [
    "N_SPLITS = 3\n",
    "TEST_SIZE = \"14D\"\n",
    "interactions_cut = Interactions(interactions_df.sample(frac=0.1))"
   ],
   "metadata": {
    "collapsed": false
   }
  },
  {
   "cell_type": "code",
   "execution_count": 140,
   "outputs": [
    {
     "name": "stdout",
     "output_type": "stream",
     "text": [
      "\n",
      "==================== Fold 0\n",
      "{'end': Timestamp('2021-07-26 00:00:00', freq='14D'),\n",
      " 'i_split': 0,\n",
      " 'start': Timestamp('2021-07-12 00:00:00', freq='14D'),\n",
      " 'test': 318418,\n",
      " 'test_items': 6627,\n",
      " 'test_users': 151061,\n",
      " 'train': 1619375,\n",
      " 'train_items': 12866,\n",
      " 'train_users': 483519}\n"
     ]
    },
    {
     "data": {
      "text/plain": "  0%|          | 0/483519 [00:00<?, ?it/s]",
      "application/vnd.jupyter.widget-view+json": {
       "version_major": 2,
       "version_minor": 0,
       "model_id": "1b5d2714a0ed4cdba9f96f719d10d705"
      }
     },
     "metadata": {},
     "output_type": "display_data"
    },
    {
     "data": {
      "text/plain": "  0%|          | 0/483519 [00:00<?, ?it/s]",
      "application/vnd.jupyter.widget-view+json": {
       "version_major": 2,
       "version_minor": 0,
       "model_id": "a2ce258d61e04beba47827b23ae24755"
      }
     },
     "metadata": {},
     "output_type": "display_data"
    },
    {
     "data": {
      "text/plain": "  0%|          | 0/483519 [00:00<?, ?it/s]",
      "application/vnd.jupyter.widget-view+json": {
       "version_major": 2,
       "version_minor": 0,
       "model_id": "a97fb192ac034dcc80c51e6b2451fa44"
      }
     },
     "metadata": {},
     "output_type": "display_data"
    },
    {
     "name": "stdout",
     "output_type": "stream",
     "text": [
      "\n",
      "==================== Fold 1\n",
      "{'end': Timestamp('2021-08-09 00:00:00', freq='14D'),\n",
      " 'i_split': 1,\n",
      " 'start': Timestamp('2021-07-26 00:00:00', freq='14D'),\n",
      " 'test': 362595,\n",
      " 'test_items': 6881,\n",
      " 'test_users': 168438,\n",
      " 'train': 1945871,\n",
      " 'train_items': 13253,\n",
      " 'train_users': 558256}\n"
     ]
    },
    {
     "data": {
      "text/plain": "  0%|          | 0/558256 [00:00<?, ?it/s]",
      "application/vnd.jupyter.widget-view+json": {
       "version_major": 2,
       "version_minor": 0,
       "model_id": "5c8ed2eeea2a4b1ea870383bf72f695d"
      }
     },
     "metadata": {},
     "output_type": "display_data"
    },
    {
     "data": {
      "text/plain": "  0%|          | 0/558256 [00:00<?, ?it/s]",
      "application/vnd.jupyter.widget-view+json": {
       "version_major": 2,
       "version_minor": 0,
       "model_id": "5ec43718ee57443b888a48e9ad4b1d13"
      }
     },
     "metadata": {},
     "output_type": "display_data"
    },
    {
     "data": {
      "text/plain": "  0%|          | 0/558256 [00:00<?, ?it/s]",
      "application/vnd.jupyter.widget-view+json": {
       "version_major": 2,
       "version_minor": 0,
       "model_id": "46dc16ef1c48457184dfeef7b046e68a"
      }
     },
     "metadata": {},
     "output_type": "display_data"
    },
    {
     "name": "stdout",
     "output_type": "stream",
     "text": [
      "\n",
      "==================== Fold 2\n",
      "{'end': Timestamp('2021-08-23 00:00:00', freq='14D'),\n",
      " 'i_split': 2,\n",
      " 'start': Timestamp('2021-08-09 00:00:00', freq='14D'),\n",
      " 'test': 393985,\n",
      " 'test_items': 6834,\n",
      " 'test_users': 180610,\n",
      " 'train': 2323923,\n",
      " 'train_items': 13619,\n",
      " 'train_users': 642433}\n"
     ]
    },
    {
     "data": {
      "text/plain": "  0%|          | 0/642433 [00:00<?, ?it/s]",
      "application/vnd.jupyter.widget-view+json": {
       "version_major": 2,
       "version_minor": 0,
       "model_id": "547ed9bf6d264829acff7e7a8dfc6e26"
      }
     },
     "metadata": {},
     "output_type": "display_data"
    },
    {
     "data": {
      "text/plain": "  0%|          | 0/642433 [00:00<?, ?it/s]",
      "application/vnd.jupyter.widget-view+json": {
       "version_major": 2,
       "version_minor": 0,
       "model_id": "a28a4c0837334c3abfdb5126a687b26e"
      }
     },
     "metadata": {},
     "output_type": "display_data"
    },
    {
     "data": {
      "text/plain": "  0%|          | 0/642433 [00:00<?, ?it/s]",
      "application/vnd.jupyter.widget-view+json": {
       "version_major": 2,
       "version_minor": 0,
       "model_id": "e295bab661164bffaba4eb6ce5563eb7"
      }
     },
     "metadata": {},
     "output_type": "display_data"
    },
    {
     "name": "stdout",
     "output_type": "stream",
     "text": [
      "CPU times: user 1h 11min 54s, sys: 1min 24s, total: 1h 13min 19s\n",
      "Wall time: 1h 14min 27s\n"
     ]
    },
    {
     "data": {
      "text/plain": "                  map@10   novelty\nmodel                             \nbm25            0.001746  6.041330\ncosine_userknn  0.002335  5.376592\ntfidf_userknn   0.004450  5.466262",
      "text/html": "<div>\n<style scoped>\n    .dataframe tbody tr th:only-of-type {\n        vertical-align: middle;\n    }\n\n    .dataframe tbody tr th {\n        vertical-align: top;\n    }\n\n    .dataframe thead th {\n        text-align: right;\n    }\n</style>\n<table border=\"1\" class=\"dataframe\">\n  <thead>\n    <tr style=\"text-align: right;\">\n      <th></th>\n      <th>map@10</th>\n      <th>novelty</th>\n    </tr>\n    <tr>\n      <th>model</th>\n      <th></th>\n      <th></th>\n    </tr>\n  </thead>\n  <tbody>\n    <tr>\n      <th>bm25</th>\n      <td>0.001746</td>\n      <td>6.041330</td>\n    </tr>\n    <tr>\n      <th>cosine_userknn</th>\n      <td>0.002335</td>\n      <td>5.376592</td>\n    </tr>\n    <tr>\n      <th>tfidf_userknn</th>\n      <td>0.004450</td>\n      <td>5.466262</td>\n    </tr>\n  </tbody>\n</table>\n</div>"
     },
     "execution_count": 140,
     "metadata": {},
     "output_type": "execute_result"
    }
   ],
   "source": [
    "%%time\n",
    "\n",
    "results = validate(models, metrics, interactions, N_SPLITS, TEST_SIZE)\n",
    "df_metrics = pd.DataFrame(results)\n",
    "df_metrics.groupby(\"model\").mean()[metrics.keys()]"
   ],
   "metadata": {
    "collapsed": false
   }
  },
  {
   "cell_type": "code",
   "execution_count": 160,
   "outputs": [
    {
     "name": "stdout",
     "output_type": "stream",
     "text": [
      "\n",
      "==================== Fold 0\n",
      "{'end': Timestamp('2021-08-23 00:00:00', freq='7D'),\n",
      " 'i_split': 0,\n",
      " 'start': Timestamp('2021-08-16 00:00:00', freq='7D'),\n",
      " 'test': 298878,\n",
      " 'test_items': 6679,\n",
      " 'test_users': 110076,\n",
      " 'train': 5051815,\n",
      " 'train_items': 15577,\n",
      " 'train_users': 906071}\n"
     ]
    },
    {
     "data": {
      "text/plain": "  0%|          | 0/3 [00:00<?, ?it/s]",
      "application/vnd.jupyter.widget-view+json": {
       "version_major": 2,
       "version_minor": 0,
       "model_id": "f29945d217574a4dbe267c50016243ca"
      }
     },
     "metadata": {},
     "output_type": "display_data"
    }
   ],
   "source": [
    "results = []\n",
    "\n",
    "interactions = Interactions(interactions_df)\n",
    "\n",
    "k = 10\n",
    "\n",
    "# Init generator of folds\n",
    "cv = TimeRangeSplitter(\n",
    "    test_size=\"7D\",\n",
    "    n_splits=1,\n",
    "    filter_already_seen=True,\n",
    "    filter_cold_items=True,\n",
    "    filter_cold_users=True,\n",
    ")\n",
    "fold_iterator = cv.split(interactions, collect_fold_stats=True)\n",
    "\n",
    "for i_fold, (train_ids, test_ids, fold_info) in enumerate(fold_iterator):\n",
    "    print(f\"\\n==================== Fold {i_fold}\")\n",
    "    pprint(fold_info)\n",
    "\n",
    "    df_train = interactions.df.iloc[train_ids].copy()\n",
    "    df_test = interactions.df.iloc[test_ids][Columns.UserItem].copy()\n",
    "\n",
    "    dataset = Dataset.construct(df_train)\n",
    "\n",
    "    test_users = list(df_test[\"user_id\"])\n",
    "\n",
    "    catalog = df_train[Columns.Item].unique()\n",
    "\n",
    "    for model_name, model in tqdm(models.items()):\n",
    "        userknn_model = ImplicitItemKNNWrapperModel(model)\n",
    "        userknn_model.fit(dataset)\n",
    "\n",
    "        recos = userknn_model.recommend(\n",
    "            users=test_users,\n",
    "            dataset=dataset,\n",
    "            k=k,\n",
    "            filter_viewed=True,\n",
    "        )\n",
    "\n",
    "        metric_values = calc_metrics(\n",
    "            metrics,\n",
    "            reco=recos,\n",
    "            interactions=df_test,\n",
    "            prev_interactions=df_train,\n",
    "            catalog=catalog,\n",
    "        )\n",
    "\n",
    "        fold = {\"fold\": i_fold, \"model\": model_name}\n",
    "        fold.update(metric_values)\n",
    "        results.append(fold)"
   ],
   "metadata": {
    "collapsed": false
   }
  },
  {
   "cell_type": "code",
   "execution_count": 161,
   "outputs": [
    {
     "data": {
      "text/plain": "                  map@10   novelty\nmodel                             \nbm25            0.073486  4.017902\ncosine_userknn  0.044468  9.444826\ntfidf_userknn   0.059698  6.930374",
      "text/html": "<div>\n<style scoped>\n    .dataframe tbody tr th:only-of-type {\n        vertical-align: middle;\n    }\n\n    .dataframe tbody tr th {\n        vertical-align: top;\n    }\n\n    .dataframe thead th {\n        text-align: right;\n    }\n</style>\n<table border=\"1\" class=\"dataframe\">\n  <thead>\n    <tr style=\"text-align: right;\">\n      <th></th>\n      <th>map@10</th>\n      <th>novelty</th>\n    </tr>\n    <tr>\n      <th>model</th>\n      <th></th>\n      <th></th>\n    </tr>\n  </thead>\n  <tbody>\n    <tr>\n      <th>bm25</th>\n      <td>0.073486</td>\n      <td>4.017902</td>\n    </tr>\n    <tr>\n      <th>cosine_userknn</th>\n      <td>0.044468</td>\n      <td>9.444826</td>\n    </tr>\n    <tr>\n      <th>tfidf_userknn</th>\n      <td>0.059698</td>\n      <td>6.930374</td>\n    </tr>\n  </tbody>\n</table>\n</div>"
     },
     "execution_count": 161,
     "metadata": {},
     "output_type": "execute_result"
    }
   ],
   "source": [
    "df_metrics = pd.DataFrame(results)\n",
    "df_metrics.groupby(\"model\").mean()[metrics.keys()]"
   ],
   "metadata": {
    "collapsed": false
   }
  },
  {
   "cell_type": "code",
   "execution_count": 162,
   "outputs": [
    {
     "data": {
      "text/plain": "<rectools.models.implicit_knn.ImplicitItemKNNWrapperModel at 0x12117c8b0>"
     },
     "execution_count": 162,
     "metadata": {},
     "output_type": "execute_result"
    }
   ],
   "source": [
    "userknn_model = ImplicitItemKNNWrapperModel(BM25Recommender())\n",
    "userknn_model.fit(dataset)"
   ],
   "metadata": {
    "collapsed": false
   }
  },
  {
   "cell_type": "code",
   "execution_count": 163,
   "outputs": [],
   "source": [
    "import pickle\n",
    "\n",
    "with open(\"knn_weights.pkl\", \"wb\") as f:\n",
    "    pickle.dump(userknn_model, f)\n"
   ],
   "metadata": {
    "collapsed": false
   }
  }
 ],
 "metadata": {
  "kernelspec": {
   "display_name": "Python 3",
   "language": "python",
   "name": "python3"
  },
  "language_info": {
   "codemirror_mode": {
    "name": "ipython",
    "version": 2
   },
   "file_extension": ".py",
   "mimetype": "text/x-python",
   "name": "python",
   "nbconvert_exporter": "python",
   "pygments_lexer": "ipython2",
   "version": "2.7.6"
  }
 },
 "nbformat": 4,
 "nbformat_minor": 0
}
