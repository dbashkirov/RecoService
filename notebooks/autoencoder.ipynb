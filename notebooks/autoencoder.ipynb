{
  "cells": [
    {
      "cell_type": "code",
      "execution_count": 1,
      "metadata": {
        "id": "lmL30TyJEZKK"
      },
      "outputs": [],
      "source": [
        "import numpy as np\n",
        "import os\n",
        "import pandas as pd"
      ]
    },
    {
      "cell_type": "code",
      "execution_count": 2,
      "metadata": {
        "id": "bN7hIQc0SQdO"
      },
      "outputs": [],
      "source": [
        "from IPython.display import display, clear_output\n",
        "\n",
        "import numpy as np\n",
        "import pandas as pd\n",
        "from tqdm.notebook import tqdm\n",
        "from sklearn.model_selection import train_test_split\n",
        "from sklearn.preprocessing import StandardScaler\n",
        "import requests\n",
        "\n",
        "import torch\n",
        "from torch import nn\n",
        "from torch.nn import functional as F\n",
        "from torch.utils.data import Dataset, DataLoader\n",
        "from scipy.sparse import csr_matrix\n",
        "import math"
      ]
    },
    {
      "cell_type": "markdown",
      "metadata": {
        "id": "uk8CAq7WZHT1"
      },
      "source": [
        "# Загрузка данных"
      ]
    },
    {
      "cell_type": "code",
      "execution_count": 5,
      "metadata": {
        "id": "YTpu_cZ9SYmn"
      },
      "outputs": [],
      "source": [
        "interactions_df = pd.read_csv('../data_original/interactions.csv')\n",
        "users_df = pd.read_csv('../data_original/users.csv')\n",
        "items_df = pd.read_csv('../data_original/items.csv')"
      ]
    },
    {
      "cell_type": "markdown",
      "metadata": {
        "id": "n6noH-wHZqtv"
      },
      "source": [
        "# ... Preprocessing steps"
      ]
    },
    {
      "cell_type": "code",
      "execution_count": 6,
      "metadata": {
        "colab": {
          "base_uri": "https://localhost:8080/",
          "height": 423
        },
        "id": "bruuj3z8Z4iq",
        "outputId": "555f6bc2-3173-4976-8d1c-7e7d987a7ce9"
      },
      "outputs": [
        {
          "data": {
            "text/html": [
              "<div>\n",
              "<style scoped>\n",
              "    .dataframe tbody tr th:only-of-type {\n",
              "        vertical-align: middle;\n",
              "    }\n",
              "\n",
              "    .dataframe tbody tr th {\n",
              "        vertical-align: top;\n",
              "    }\n",
              "\n",
              "    .dataframe thead th {\n",
              "        text-align: right;\n",
              "    }\n",
              "</style>\n",
              "<table border=\"1\" class=\"dataframe\">\n",
              "  <thead>\n",
              "    <tr style=\"text-align: right;\">\n",
              "      <th></th>\n",
              "      <th>user_id</th>\n",
              "      <th>item_id</th>\n",
              "      <th>last_watch_dt</th>\n",
              "      <th>total_dur</th>\n",
              "      <th>watched_pct</th>\n",
              "    </tr>\n",
              "  </thead>\n",
              "  <tbody>\n",
              "    <tr>\n",
              "      <th>66</th>\n",
              "      <td>750995</td>\n",
              "      <td>11699</td>\n",
              "      <td>2021-03-15</td>\n",
              "      <td>12998</td>\n",
              "      <td>100.0</td>\n",
              "    </tr>\n",
              "    <tr>\n",
              "      <th>71</th>\n",
              "      <td>785328</td>\n",
              "      <td>13165</td>\n",
              "      <td>2021-03-26</td>\n",
              "      <td>7</td>\n",
              "      <td>1.0</td>\n",
              "    </tr>\n",
              "    <tr>\n",
              "      <th>77</th>\n",
              "      <td>222359</td>\n",
              "      <td>11237</td>\n",
              "      <td>2021-03-17</td>\n",
              "      <td>1714</td>\n",
              "      <td>31.0</td>\n",
              "    </tr>\n",
              "    <tr>\n",
              "      <th>172</th>\n",
              "      <td>857657</td>\n",
              "      <td>7612</td>\n",
              "      <td>2021-03-22</td>\n",
              "      <td>263</td>\n",
              "      <td>4.0</td>\n",
              "    </tr>\n",
              "    <tr>\n",
              "      <th>199</th>\n",
              "      <td>843274</td>\n",
              "      <td>334</td>\n",
              "      <td>2021-03-18</td>\n",
              "      <td>12124</td>\n",
              "      <td>100.0</td>\n",
              "    </tr>\n",
              "    <tr>\n",
              "      <th>...</th>\n",
              "      <td>...</td>\n",
              "      <td>...</td>\n",
              "      <td>...</td>\n",
              "      <td>...</td>\n",
              "      <td>...</td>\n",
              "    </tr>\n",
              "    <tr>\n",
              "      <th>5476106</th>\n",
              "      <td>1083184</td>\n",
              "      <td>7382</td>\n",
              "      <td>2021-03-31</td>\n",
              "      <td>5706</td>\n",
              "      <td>92.0</td>\n",
              "    </tr>\n",
              "    <tr>\n",
              "      <th>5476126</th>\n",
              "      <td>332587</td>\n",
              "      <td>12707</td>\n",
              "      <td>2021-03-26</td>\n",
              "      <td>705</td>\n",
              "      <td>12.0</td>\n",
              "    </tr>\n",
              "    <tr>\n",
              "      <th>5476162</th>\n",
              "      <td>1033310</td>\n",
              "      <td>4211</td>\n",
              "      <td>2021-03-27</td>\n",
              "      <td>5</td>\n",
              "      <td>0.0</td>\n",
              "    </tr>\n",
              "    <tr>\n",
              "      <th>5476193</th>\n",
              "      <td>694377</td>\n",
              "      <td>16291</td>\n",
              "      <td>2021-03-23</td>\n",
              "      <td>20051</td>\n",
              "      <td>100.0</td>\n",
              "    </tr>\n",
              "    <tr>\n",
              "      <th>5476213</th>\n",
              "      <td>706423</td>\n",
              "      <td>3384</td>\n",
              "      <td>2021-03-13</td>\n",
              "      <td>5937</td>\n",
              "      <td>100.0</td>\n",
              "    </tr>\n",
              "  </tbody>\n",
              "</table>\n",
              "<p>263874 rows × 5 columns</p>\n",
              "</div>"
            ],
            "text/plain": [
              "         user_id  item_id last_watch_dt  total_dur  watched_pct\n",
              "66        750995    11699    2021-03-15      12998        100.0\n",
              "71        785328    13165    2021-03-26          7          1.0\n",
              "77        222359    11237    2021-03-17       1714         31.0\n",
              "172       857657     7612    2021-03-22        263          4.0\n",
              "199       843274      334    2021-03-18      12124        100.0\n",
              "...          ...      ...           ...        ...          ...\n",
              "5476106  1083184     7382    2021-03-31       5706         92.0\n",
              "5476126   332587    12707    2021-03-26        705         12.0\n",
              "5476162  1033310     4211    2021-03-27          5          0.0\n",
              "5476193   694377    16291    2021-03-23      20051        100.0\n",
              "5476213   706423     3384    2021-03-13       5937        100.0\n",
              "\n",
              "[263874 rows x 5 columns]"
            ]
          },
          "execution_count": 6,
          "metadata": {},
          "output_type": "execute_result"
        }
      ],
      "source": [
        "# Filter interactions before a certain date\n",
        "interactions_df = interactions_df[interactions_df['last_watch_dt'] < '2021-04-01'] #users with more item count\n",
        "interactions_df"
      ]
    },
    {
      "cell_type": "code",
      "execution_count": 7,
      "metadata": {
        "colab": {
          "base_uri": "https://localhost:8080/"
        },
        "id": "WUyFRAgVhG_c",
        "outputId": "b4f17975-656a-4411-8a33-35a8690c7543"
      },
      "outputs": [
        {
          "name": "stdout",
          "output_type": "stream",
          "text": [
            "# users: 86614\n",
            "# users with at least 5 interactions: 14563\n"
          ]
        }
      ],
      "source": [
        "users_interactions_count_df = interactions_df.groupby(['user_id', 'item_id']).size().groupby('user_id').size()\n",
        "print('# users: %d' % len(users_interactions_count_df))\n",
        "users_with_enough_interactions_df = users_interactions_count_df[users_interactions_count_df >= 5].reset_index()[['user_id']]\n",
        "print('# users with at least 5 interactions: %d' % len(users_with_enough_interactions_df))"
      ]
    },
    {
      "cell_type": "code",
      "execution_count": 8,
      "metadata": {
        "colab": {
          "base_uri": "https://localhost:8080/"
        },
        "id": "OYF-4YD8hT7P",
        "outputId": "c8ea237a-ea47-480a-9b7f-e7eab4859d6c"
      },
      "outputs": [
        {
          "name": "stdout",
          "output_type": "stream",
          "text": [
            "# of interactions: 263874\n",
            "# of interactions from users with at least 5 interactions: 142670\n"
          ]
        }
      ],
      "source": [
        "print('# of interactions: %d' % len(interactions_df))\n",
        "interactions_from_selected_users_df = interactions_df.merge(users_with_enough_interactions_df,\n",
        "               how = 'right',\n",
        "               left_on = 'user_id',\n",
        "               right_on = 'user_id')\n",
        "print('# of interactions from users with at least 5 interactions: %d' % len(interactions_from_selected_users_df))"
      ]
    },
    {
      "cell_type": "code",
      "execution_count": 9,
      "metadata": {
        "colab": {
          "base_uri": "https://localhost:8080/",
          "height": 380
        },
        "id": "Yz_WqujXhX8p",
        "outputId": "cfaca6a3-ecd2-4630-a989-1e8f8f436168"
      },
      "outputs": [
        {
          "name": "stdout",
          "output_type": "stream",
          "text": [
            "# of unique user/item interactions: 142670\n"
          ]
        },
        {
          "data": {
            "text/html": [
              "<div>\n",
              "<style scoped>\n",
              "    .dataframe tbody tr th:only-of-type {\n",
              "        vertical-align: middle;\n",
              "    }\n",
              "\n",
              "    .dataframe tbody tr th {\n",
              "        vertical-align: top;\n",
              "    }\n",
              "\n",
              "    .dataframe thead th {\n",
              "        text-align: right;\n",
              "    }\n",
              "</style>\n",
              "<table border=\"1\" class=\"dataframe\">\n",
              "  <thead>\n",
              "    <tr style=\"text-align: right;\">\n",
              "      <th></th>\n",
              "      <th>user_id</th>\n",
              "      <th>item_id</th>\n",
              "      <th>watched_pct</th>\n",
              "    </tr>\n",
              "  </thead>\n",
              "  <tbody>\n",
              "    <tr>\n",
              "      <th>0</th>\n",
              "      <td>21</td>\n",
              "      <td>849</td>\n",
              "      <td>6.375039</td>\n",
              "    </tr>\n",
              "    <tr>\n",
              "      <th>1</th>\n",
              "      <td>21</td>\n",
              "      <td>4345</td>\n",
              "      <td>6.658211</td>\n",
              "    </tr>\n",
              "    <tr>\n",
              "      <th>2</th>\n",
              "      <td>21</td>\n",
              "      <td>10283</td>\n",
              "      <td>6.658211</td>\n",
              "    </tr>\n",
              "    <tr>\n",
              "      <th>3</th>\n",
              "      <td>21</td>\n",
              "      <td>12261</td>\n",
              "      <td>6.658211</td>\n",
              "    </tr>\n",
              "    <tr>\n",
              "      <th>4</th>\n",
              "      <td>21</td>\n",
              "      <td>15997</td>\n",
              "      <td>6.658211</td>\n",
              "    </tr>\n",
              "    <tr>\n",
              "      <th>5</th>\n",
              "      <td>32</td>\n",
              "      <td>952</td>\n",
              "      <td>6.044394</td>\n",
              "    </tr>\n",
              "    <tr>\n",
              "      <th>6</th>\n",
              "      <td>32</td>\n",
              "      <td>4382</td>\n",
              "      <td>4.954196</td>\n",
              "    </tr>\n",
              "    <tr>\n",
              "      <th>7</th>\n",
              "      <td>32</td>\n",
              "      <td>4807</td>\n",
              "      <td>6.658211</td>\n",
              "    </tr>\n",
              "    <tr>\n",
              "      <th>8</th>\n",
              "      <td>32</td>\n",
              "      <td>10436</td>\n",
              "      <td>6.658211</td>\n",
              "    </tr>\n",
              "    <tr>\n",
              "      <th>9</th>\n",
              "      <td>32</td>\n",
              "      <td>12132</td>\n",
              "      <td>6.658211</td>\n",
              "    </tr>\n",
              "  </tbody>\n",
              "</table>\n",
              "</div>"
            ],
            "text/plain": [
              "   user_id  item_id  watched_pct\n",
              "0       21      849     6.375039\n",
              "1       21     4345     6.658211\n",
              "2       21    10283     6.658211\n",
              "3       21    12261     6.658211\n",
              "4       21    15997     6.658211\n",
              "5       32      952     6.044394\n",
              "6       32     4382     4.954196\n",
              "7       32     4807     6.658211\n",
              "8       32    10436     6.658211\n",
              "9       32    12132     6.658211"
            ]
          },
          "execution_count": 9,
          "metadata": {},
          "output_type": "execute_result"
        }
      ],
      "source": [
        "# Apply smooth_user_preference to create a full user-item interaction matrix\n",
        "def smooth_user_preference(x):\n",
        "    return math.log(1+x, 2)\n",
        "\n",
        "interactions_full_df = interactions_from_selected_users_df \\\n",
        "                    .groupby(['user_id', 'item_id'])['watched_pct'].sum() \\\n",
        "                    .apply(smooth_user_preference).reset_index()\n",
        "print('# of unique user/item interactions: %d' % len(interactions_full_df))\n",
        "interactions_full_df.head(10)"
      ]
    },
    {
      "cell_type": "code",
      "execution_count": 10,
      "metadata": {
        "colab": {
          "base_uri": "https://localhost:8080/"
        },
        "id": "_r7p0u08jlFk",
        "outputId": "a8c298c7-9e85-4e4d-fa62-c29554b4d881"
      },
      "outputs": [
        {
          "name": "stdout",
          "output_type": "stream",
          "text": [
            "# interactions on Train set: 114136\n",
            "# interactions on Test set: 28534\n"
          ]
        }
      ],
      "source": [
        "# Train-test split\n",
        "interactions_train_df, interactions_test_df = train_test_split(interactions_full_df,\n",
        "                                   stratify=interactions_full_df['user_id'],\n",
        "                                   test_size=0.20,\n",
        "                                   random_state=42)\n",
        "\n",
        "print('# interactions on Train set: %d' % len(interactions_train_df))\n",
        "print('# interactions on Test set: %d' % len(interactions_test_df))"
      ]
    },
    {
      "cell_type": "code",
      "execution_count": 11,
      "metadata": {
        "id": "wXK7NVrKkADw"
      },
      "outputs": [],
      "source": [
        "#Indexing by personId to speed up the searches during evaluation\n",
        "interactions_full_indexed_df = interactions_full_df.set_index('user_id')\n",
        "interactions_train_indexed_df = interactions_train_df.set_index('user_id')\n",
        "interactions_test_indexed_df = interactions_test_df.set_index('user_id')"
      ]
    },
    {
      "cell_type": "code",
      "execution_count": 12,
      "metadata": {
        "colab": {
          "base_uri": "https://localhost:8080/"
        },
        "id": "0sNlH3ZptoGx",
        "outputId": "5c782058-72b4-414c-828d-f623cfe424f9"
      },
      "outputs": [
        {
          "name": "stderr",
          "output_type": "stream",
          "text": [
            "/tmp/ipykernel_2138856/700758299.py:1: FutureWarning: The frame.append method is deprecated and will be removed from pandas in a future version. Use pandas.concat instead.\n",
            "  total_df = interactions_train_df.append(interactions_test_indexed_df.reset_index())\n"
          ]
        }
      ],
      "source": [
        "total_df = interactions_train_df.append(interactions_test_indexed_df.reset_index())\n",
        "total_df['user_id'], users_keys = total_df.user_id.factorize()\n",
        "total_df['item_id'], items_keys = total_df.item_id.factorize()\n",
        "\n",
        "train_encoded = total_df.iloc[:len(interactions_train_df)].values\n",
        "test_encoded = total_df.iloc[len(interactions_train_df):].values\n"
      ]
    },
    {
      "cell_type": "code",
      "execution_count": 13,
      "metadata": {
        "id": "wowOxqT0li_p"
      },
      "outputs": [],
      "source": [
        "from scipy.sparse import csr_matrix\n",
        "shape = [int(total_df['user_id'].max()+1), int(total_df['item_id'].max()+1)]\n",
        "X_train = csr_matrix((train_encoded[:, 2], (train_encoded[:, 0], train_encoded[:, 1])), shape=shape).toarray()\n",
        "X_test = csr_matrix((test_encoded[:, 2], (test_encoded[:, 0], test_encoded[:, 1])), shape=shape).toarray()"
      ]
    },
    {
      "cell_type": "code",
      "execution_count": 14,
      "metadata": {
        "id": "PWDuIZYNr_Lf"
      },
      "outputs": [],
      "source": [
        "# Initialize the DataObject, which must return an element (features vector x and target value y)\n",
        "# for a given idx. This class must also have a length atribute\n",
        "class UserOrientedDataset(Dataset):\n",
        "    def __init__(self, X):\n",
        "        super().__init__() # to initialize the parent class\n",
        "        self.X = X.astype(np.float32)\n",
        "        self.len = len(X)\n",
        "\n",
        "    def __len__(self): # We use __func__ for implementing in-built python functions\n",
        "        return self.len\n",
        "\n",
        "    def __getitem__(self, index):\n",
        "        return self.X[index]"
      ]
    },
    {
      "cell_type": "code",
      "execution_count": 17,
      "metadata": {
        "id": "vE4Cn9Uoo-AD"
      },
      "outputs": [],
      "source": [
        "# Constants\n",
        "SEED = 42 # random seed for reproducibility\n",
        "LR = 1e-3 # learning rate, controls the speed of the training\n",
        "WEIGHT_DECAY = 0.05 # lambda for L2 reg. ()\n",
        "NUM_EPOCHS = 125 # num training epochs (how many times each instance will be processed)\n",
        "GAMMA = 0.9995 # learning rate scheduler parameter\n",
        "BATCH_SIZE = 2048 # training batch size\n",
        "EVAL_BATCH_SIZE = 2048 # evaluation batch size.\n",
        "DEVICE = 'cpu' #'cuda' # device to make the calculations on"
      ]
    },
    {
      "cell_type": "code",
      "execution_count": 18,
      "metadata": {
        "id": "-3XTg1pwuYL0"
      },
      "outputs": [],
      "source": [
        "# Initialize DataLoaders - objects, which sample instances from DataObject-s\n",
        "train_dl = DataLoader(\n",
        "    UserOrientedDataset(X_train),\n",
        "    batch_size = BATCH_SIZE,\n",
        "    shuffle = True\n",
        ")\n",
        "\n",
        "test_dl = DataLoader(\n",
        "    UserOrientedDataset(X_test),\n",
        "    batch_size = EVAL_BATCH_SIZE,\n",
        "    shuffle = False\n",
        ")\n",
        "\n",
        "dls = {'train': train_dl, 'test': test_dl}"
      ]
    },
    {
      "cell_type": "code",
      "execution_count": 19,
      "metadata": {
        "id": "x_CmrUAUn307"
      },
      "outputs": [],
      "source": [
        "class Model(nn.Module):\n",
        "    def __init__(self, in_and_out_features=8287):\n",
        "        super().__init__()\n",
        "        self.in_and_out_features = in_and_out_features\n",
        "        self.hidden_size1 = 1000\n",
        "        self.hidden_size2 = 500\n",
        "        self.hidden_size3 = 200\n",
        "\n",
        "        self.sequential = nn.Sequential(\n",
        "            nn.Linear(in_and_out_features, self.hidden_size1),\n",
        "            nn.ReLU(),\n",
        "            nn.Linear(self.hidden_size1, self.hidden_size2),\n",
        "            nn.ReLU(),\n",
        "            nn.Linear(self.hidden_size2, self.hidden_size3),\n",
        "            nn.ReLU(),\n",
        "            nn.Linear(self.hidden_size3, in_and_out_features)\n",
        "        )\n",
        "\n",
        "    def forward(self, x):\n",
        "        x = self.sequential(x)\n",
        "        return x\n"
      ]
    },
    {
      "cell_type": "code",
      "execution_count": 20,
      "metadata": {
        "id": "8pP8s3vjotDC"
      },
      "outputs": [],
      "source": [
        "torch.manual_seed(SEED) # Fix random seed to have reproducible weights of model layers\n",
        "\n",
        "model = Model()\n",
        "#model.to(DEVICE)\n",
        "\n",
        "# Initialize GD method, which will update the weights of the model\n",
        "optimizer = torch.optim.AdamW(model.parameters(), lr=LR, weight_decay=WEIGHT_DECAY)\n",
        "# Initialize learning rate scheduler, which will decrease LR according to some rule\n",
        "scheduler = torch.optim.lr_scheduler.ExponentialLR(optimizer, gamma=GAMMA)\n",
        "\n",
        "def rmse_for_sparse(x_pred, x_true):\n",
        "    mask = (x_true > 0)\n",
        "    sq_diff = (x_pred * mask - x_true) ** 2\n",
        "    mse = sq_diff.sum() / mask.sum()\n",
        "    return mse ** (1/2)"
      ]
    },
    {
      "cell_type": "code",
      "execution_count": 21,
      "metadata": {
        "colab": {
          "base_uri": "https://localhost:8080/",
          "height": 423
        },
        "id": "KVBmjOlwmELm",
        "outputId": "1fe3defb-e259-4d12-8bf4-953bbe9f3122"
      },
      "outputs": [
        {
          "data": {
            "text/html": [
              "<div>\n",
              "<style scoped>\n",
              "    .dataframe tbody tr th:only-of-type {\n",
              "        vertical-align: middle;\n",
              "    }\n",
              "\n",
              "    .dataframe tbody tr th {\n",
              "        vertical-align: top;\n",
              "    }\n",
              "\n",
              "    .dataframe thead th {\n",
              "        text-align: right;\n",
              "    }\n",
              "</style>\n",
              "<table border=\"1\" class=\"dataframe\">\n",
              "  <thead>\n",
              "    <tr style=\"text-align: right;\">\n",
              "      <th></th>\n",
              "      <th>Epoch</th>\n",
              "      <th>Train RMSE</th>\n",
              "      <th>Test RMSE</th>\n",
              "    </tr>\n",
              "  </thead>\n",
              "  <tbody>\n",
              "    <tr>\n",
              "      <th>0</th>\n",
              "      <td>0</td>\n",
              "      <td>2.302109</td>\n",
              "      <td>2.203645</td>\n",
              "    </tr>\n",
              "    <tr>\n",
              "      <th>1</th>\n",
              "      <td>1</td>\n",
              "      <td>1.993780</td>\n",
              "      <td>2.155967</td>\n",
              "    </tr>\n",
              "    <tr>\n",
              "      <th>2</th>\n",
              "      <td>2</td>\n",
              "      <td>1.791523</td>\n",
              "      <td>2.001623</td>\n",
              "    </tr>\n",
              "    <tr>\n",
              "      <th>3</th>\n",
              "      <td>3</td>\n",
              "      <td>1.648853</td>\n",
              "      <td>1.935495</td>\n",
              "    </tr>\n",
              "    <tr>\n",
              "      <th>4</th>\n",
              "      <td>4</td>\n",
              "      <td>1.558172</td>\n",
              "      <td>1.900776</td>\n",
              "    </tr>\n",
              "    <tr>\n",
              "      <th>...</th>\n",
              "      <td>...</td>\n",
              "      <td>...</td>\n",
              "      <td>...</td>\n",
              "    </tr>\n",
              "    <tr>\n",
              "      <th>120</th>\n",
              "      <td>120</td>\n",
              "      <td>0.511775</td>\n",
              "      <td>1.288009</td>\n",
              "    </tr>\n",
              "    <tr>\n",
              "      <th>121</th>\n",
              "      <td>121</td>\n",
              "      <td>0.497937</td>\n",
              "      <td>1.297974</td>\n",
              "    </tr>\n",
              "    <tr>\n",
              "      <th>122</th>\n",
              "      <td>122</td>\n",
              "      <td>0.479946</td>\n",
              "      <td>1.297226</td>\n",
              "    </tr>\n",
              "    <tr>\n",
              "      <th>123</th>\n",
              "      <td>123</td>\n",
              "      <td>0.453905</td>\n",
              "      <td>1.299264</td>\n",
              "    </tr>\n",
              "    <tr>\n",
              "      <th>124</th>\n",
              "      <td>124</td>\n",
              "      <td>0.440587</td>\n",
              "      <td>1.305919</td>\n",
              "    </tr>\n",
              "  </tbody>\n",
              "</table>\n",
              "<p>125 rows × 3 columns</p>\n",
              "</div>"
            ],
            "text/plain": [
              "     Epoch  Train RMSE  Test RMSE\n",
              "0        0    2.302109   2.203645\n",
              "1        1    1.993780   2.155967\n",
              "2        2    1.791523   2.001623\n",
              "3        3    1.648853   1.935495\n",
              "4        4    1.558172   1.900776\n",
              "..     ...         ...        ...\n",
              "120    120    0.511775   1.288009\n",
              "121    121    0.497937   1.297974\n",
              "122    122    0.479946   1.297226\n",
              "123    123    0.453905   1.299264\n",
              "124    124    0.440587   1.305919\n",
              "\n",
              "[125 rows x 3 columns]"
            ]
          },
          "metadata": {},
          "output_type": "display_data"
        }
      ],
      "source": [
        "# Training loop\n",
        "metrics_dict = {\n",
        "    \"Epoch\": [],\n",
        "    \"Train RMSE\": [],\n",
        "    \"Test RMSE\": [],\n",
        "}\n",
        "\n",
        "# Train loop\n",
        "for epoch in range(NUM_EPOCHS):\n",
        "    metrics_dict[\"Epoch\"].append(epoch)\n",
        "    for stage in ['train', 'test']:\n",
        "        with torch.set_grad_enabled(stage == 'train'): # Whether to start building a graph for a backward pass\n",
        "            if stage == 'train':\n",
        "                model.train() # Enable some \"special\" layers (will speak about later)\n",
        "            else:\n",
        "                model.eval() # Disable some \"special\" layers (will speak about later)\n",
        "\n",
        "            loss_at_stage = 0\n",
        "            for batch in dls[stage]:\n",
        "                #batch = batch.to(DEVICE)\n",
        "                x_pred = model(batch) # forward pass: model(x_batch) -> calls forward()\n",
        "                loss = rmse_for_sparse(x_pred, batch) # ¡Important! y_pred is always the first arg\n",
        "                if stage == \"train\":\n",
        "                    loss.backward() # Calculate the gradients of all the parameters wrt loss\n",
        "                    optimizer.step() # Update the parameters\n",
        "                    scheduler.step()\n",
        "                    optimizer.zero_grad() # Zero the saved gradient\n",
        "                loss_at_stage += loss.item() * len(batch)\n",
        "            rmse_at_stage = (loss_at_stage / len(dls[stage].dataset)) ** (1/2)\n",
        "            metrics_dict[f\"{stage.title()} RMSE\"].append(rmse_at_stage)\n",
        "\n",
        "    if (epoch == NUM_EPOCHS - 1) or epoch % 10 == 9:\n",
        "        clear_output(wait=True)\n",
        "        display(pd.DataFrame(metrics_dict))"
      ]
    },
    {
      "cell_type": "code",
      "execution_count": 22,
      "metadata": {
        "id": "zWyhh_hj_9eK"
      },
      "outputs": [],
      "source": [
        "# Save model and optimizer state dictionaries\n",
        "torch.save({\n",
        "    'model_state_dict': model.state_dict(),\n",
        "    'optimizer_state_dict': optimizer.state_dict(),\n",
        "}, 'AutoEncoder_checkpoint.pt')"
      ]
    },
    {
      "cell_type": "code",
      "execution_count": 23,
      "metadata": {
        "id": "qcTgG6-sAEXg"
      },
      "outputs": [],
      "source": [
        "# Load model and optimizer state dictionaries\n",
        "checkpoint = torch.load('AutoEncoder_checkpoint.pt')\n",
        "model.load_state_dict(checkpoint['model_state_dict'])\n",
        "optimizer.load_state_dict(checkpoint['optimizer_state_dict'])"
      ]
    },
    {
      "cell_type": "code",
      "execution_count": 24,
      "metadata": {
        "colab": {
          "base_uri": "https://localhost:8080/"
        },
        "id": "9UDC2rY1BnzC",
        "outputId": "9984167b-8aa6-4f91-9b99-c74b58e9956a"
      },
      "outputs": [
        {
          "data": {
            "text/plain": [
              "tensor([[ 2.6050,  3.5984,  2.1094,  ...,  0.1147, -0.0676, -0.3312],\n",
              "        [ 1.1173,  2.1493,  1.0206,  ..., -0.6479,  0.2637, -0.0832],\n",
              "        [ 1.8673,  3.1533,  1.6061,  ..., -0.8968, -0.5161,  0.2287],\n",
              "        ...,\n",
              "        [ 1.3053,  2.1611,  0.7154,  ..., -0.7329,  0.3665, -0.3586],\n",
              "        [ 1.4575,  3.7886,  1.0095,  ..., -0.7153, -0.3761, -0.2638],\n",
              "        [ 1.2514,  2.8220,  1.5491,  ..., -0.9936,  0.3583, -0.0744]])"
            ]
          },
          "execution_count": 24,
          "metadata": {},
          "output_type": "execute_result"
        }
      ],
      "source": [
        "with torch.no_grad():\n",
        "    X_pred = model(torch.Tensor(X_test))\n",
        "X_pred"
      ]
    },
    {
      "cell_type": "code",
      "execution_count": 25,
      "metadata": {
        "colab": {
          "base_uri": "https://localhost:8080/"
        },
        "id": "srqe_jO9Au7x",
        "outputId": "6afe97a6-71d1-4604-e9f9-3016362caa6d"
      },
      "outputs": [
        {
          "data": {
            "text/plain": [
              "<All keys matched successfully>"
            ]
          },
          "execution_count": 25,
          "metadata": {},
          "output_type": "execute_result"
        }
      ],
      "source": [
        "checkpoint = torch.load('AutoEncoder_checkpoint.pt')\n",
        "model_state_dict = checkpoint['model_state_dict']\n",
        "\n",
        "model = Model()\n",
        "model.load_state_dict(model_state_dict)"
      ]
    },
    {
      "cell_type": "code",
      "execution_count": 26,
      "metadata": {
        "id": "BazDMeeEBSTE"
      },
      "outputs": [],
      "source": [
        "class AERecommender:\n",
        "\n",
        "    MODEL_NAME = 'Autoencoder'\n",
        "\n",
        "    def __init__(self, X_preds, X_train_and_val, X_test):\n",
        "\n",
        "        self.X_preds = X_preds.cpu().detach().numpy()\n",
        "        self.X_train_and_val = X_train_and_val\n",
        "        self.X_test = X_test\n",
        "\n",
        "    def get_model_name(self):\n",
        "        return self.MODEL_NAME\n",
        "\n",
        "    def recommend_items(self, user_id, items_to_select_idx, topn=10, verbose=False):\n",
        "        user_preds = self.X_preds[user_id][items_to_select_idx]\n",
        "        items_idx = items_to_select_idx[np.argsort(-user_preds)[:topn]]\n",
        "\n",
        "        # Recommend the highest predicted rating movies that the user hasn't seen yet.\n",
        "        return items_idx\n",
        "\n",
        "    def evaluate(self, size=100):\n",
        "\n",
        "        X_total = self.X_train_and_val + self.X_test\n",
        "\n",
        "        true_5 = []\n",
        "        true_10 = []\n",
        "\n",
        "        for user_id in range(len(X_test)):\n",
        "            non_zero = np.argwhere(self.X_test[user_id] > 0).ravel()\n",
        "            all_nonzero = np.argwhere(X_total[user_id] > 0).ravel()\n",
        "            select_from = np.setdiff1d(np.arange(X_total.shape[1]), all_nonzero)\n",
        "\n",
        "            for non_zero_idx in non_zero:\n",
        "                random_non_interacted_100_items = np.random.choice(select_from, size=20, replace=False)\n",
        "                preds = self.recommend_items(user_id, np.append(random_non_interacted_100_items, non_zero_idx), topn=10)\n",
        "                true_5.append(non_zero_idx in preds[:5])\n",
        "                true_10.append(non_zero_idx in preds)\n",
        "\n",
        "        return {\"recall@5\": np.mean(true_5), \"recall@10\": np.mean(true_10)}\n",
        "\n",
        "ae_recommender_model = AERecommender(X_pred, X_train, X_train)"
      ]
    },
    {
      "cell_type": "code",
      "execution_count": 27,
      "metadata": {
        "colab": {
          "base_uri": "https://localhost:8080/"
        },
        "id": "Au6qwG4gBusD",
        "outputId": "9f6dd8cd-0306-4286-9c6a-4234169ff615"
      },
      "outputs": [
        {
          "data": {
            "text/plain": [
              "{'recall@5': 0.15153051771382878, 'recall@10': 0.36697319277989604}"
            ]
          },
          "execution_count": 27,
          "metadata": {},
          "output_type": "execute_result"
        }
      ],
      "source": [
        "ae_global_metrics = ae_recommender_model.evaluate()\n",
        "ae_global_metrics"
      ]
    },
    {
      "cell_type": "code",
      "execution_count": null,
      "metadata": {},
      "outputs": [],
      "source": []
    }
  ],
  "metadata": {
    "accelerator": "GPU",
    "colab": {
      "gpuType": "T4",
      "provenance": []
    },
    "kernelspec": {
      "display_name": "Python 3",
      "name": "python3"
    },
    "language_info": {
      "codemirror_mode": {
        "name": "ipython",
        "version": 3
      },
      "file_extension": ".py",
      "mimetype": "text/x-python",
      "name": "python",
      "nbconvert_exporter": "python",
      "pygments_lexer": "ipython3",
      "version": "3.10.12"
    },
    "widgets": {
      "application/vnd.jupyter.widget-state+json": {
        "163e8c3c387f42b09581b2dda535999d": {
          "model_module": "@jupyter-widgets/controls",
          "model_module_version": "1.5.0",
          "model_name": "HTMLModel",
          "state": {
            "_dom_classes": [],
            "_model_module": "@jupyter-widgets/controls",
            "_model_module_version": "1.5.0",
            "_model_name": "HTMLModel",
            "_view_count": null,
            "_view_module": "@jupyter-widgets/controls",
            "_view_module_version": "1.5.0",
            "_view_name": "HTMLView",
            "description": "",
            "description_tooltip": null,
            "layout": "IPY_MODEL_b80fe576e0504081b846f055561ae722",
            "placeholder": "​",
            "style": "IPY_MODEL_54eac74c1a5f4b9eb9cff501a694cb22",
            "value": " 78.8M/78.8M [00:20&lt;00:00, 122MiB/s]"
          }
        },
        "4bc7c5cfb81040b694638a8e979255ae": {
          "model_module": "@jupyter-widgets/controls",
          "model_module_version": "1.5.0",
          "model_name": "ProgressStyleModel",
          "state": {
            "_model_module": "@jupyter-widgets/controls",
            "_model_module_version": "1.5.0",
            "_model_name": "ProgressStyleModel",
            "_view_count": null,
            "_view_module": "@jupyter-widgets/base",
            "_view_module_version": "1.2.0",
            "_view_name": "StyleView",
            "bar_color": null,
            "description_width": ""
          }
        },
        "54eac74c1a5f4b9eb9cff501a694cb22": {
          "model_module": "@jupyter-widgets/controls",
          "model_module_version": "1.5.0",
          "model_name": "DescriptionStyleModel",
          "state": {
            "_model_module": "@jupyter-widgets/controls",
            "_model_module_version": "1.5.0",
            "_model_name": "DescriptionStyleModel",
            "_view_count": null,
            "_view_module": "@jupyter-widgets/base",
            "_view_module_version": "1.2.0",
            "_view_name": "StyleView",
            "description_width": ""
          }
        },
        "b0870b3e999f4fdaa3b5302c77adc4ff": {
          "model_module": "@jupyter-widgets/controls",
          "model_module_version": "1.5.0",
          "model_name": "FloatProgressModel",
          "state": {
            "_dom_classes": [],
            "_model_module": "@jupyter-widgets/controls",
            "_model_module_version": "1.5.0",
            "_model_name": "FloatProgressModel",
            "_view_count": null,
            "_view_module": "@jupyter-widgets/controls",
            "_view_module_version": "1.5.0",
            "_view_name": "ProgressView",
            "bar_style": "",
            "description": "",
            "description_tooltip": null,
            "layout": "IPY_MODEL_ec3e18feb0924907b610a376bcbfc958",
            "max": 78795295,
            "min": 0,
            "orientation": "horizontal",
            "style": "IPY_MODEL_4bc7c5cfb81040b694638a8e979255ae",
            "value": 78795295
          }
        },
        "b11ee8e0ab66440398771bfeb589635f": {
          "model_module": "@jupyter-widgets/controls",
          "model_module_version": "1.5.0",
          "model_name": "HBoxModel",
          "state": {
            "_dom_classes": [],
            "_model_module": "@jupyter-widgets/controls",
            "_model_module_version": "1.5.0",
            "_model_name": "HBoxModel",
            "_view_count": null,
            "_view_module": "@jupyter-widgets/controls",
            "_view_module_version": "1.5.0",
            "_view_name": "HBoxView",
            "box_style": "",
            "children": [
              "IPY_MODEL_d255f49c1a28491c8138055d2fae48bd",
              "IPY_MODEL_b0870b3e999f4fdaa3b5302c77adc4ff",
              "IPY_MODEL_163e8c3c387f42b09581b2dda535999d"
            ],
            "layout": "IPY_MODEL_be893412513e46dea37fb052b01ea293"
          }
        },
        "b80fe576e0504081b846f055561ae722": {
          "model_module": "@jupyter-widgets/base",
          "model_module_version": "1.2.0",
          "model_name": "LayoutModel",
          "state": {
            "_model_module": "@jupyter-widgets/base",
            "_model_module_version": "1.2.0",
            "_model_name": "LayoutModel",
            "_view_count": null,
            "_view_module": "@jupyter-widgets/base",
            "_view_module_version": "1.2.0",
            "_view_name": "LayoutView",
            "align_content": null,
            "align_items": null,
            "align_self": null,
            "border": null,
            "bottom": null,
            "display": null,
            "flex": null,
            "flex_flow": null,
            "grid_area": null,
            "grid_auto_columns": null,
            "grid_auto_flow": null,
            "grid_auto_rows": null,
            "grid_column": null,
            "grid_gap": null,
            "grid_row": null,
            "grid_template_areas": null,
            "grid_template_columns": null,
            "grid_template_rows": null,
            "height": null,
            "justify_content": null,
            "justify_items": null,
            "left": null,
            "margin": null,
            "max_height": null,
            "max_width": null,
            "min_height": null,
            "min_width": null,
            "object_fit": null,
            "object_position": null,
            "order": null,
            "overflow": null,
            "overflow_x": null,
            "overflow_y": null,
            "padding": null,
            "right": null,
            "top": null,
            "visibility": null,
            "width": null
          }
        },
        "be893412513e46dea37fb052b01ea293": {
          "model_module": "@jupyter-widgets/base",
          "model_module_version": "1.2.0",
          "model_name": "LayoutModel",
          "state": {
            "_model_module": "@jupyter-widgets/base",
            "_model_module_version": "1.2.0",
            "_model_name": "LayoutModel",
            "_view_count": null,
            "_view_module": "@jupyter-widgets/base",
            "_view_module_version": "1.2.0",
            "_view_name": "LayoutView",
            "align_content": null,
            "align_items": null,
            "align_self": null,
            "border": null,
            "bottom": null,
            "display": null,
            "flex": null,
            "flex_flow": null,
            "grid_area": null,
            "grid_auto_columns": null,
            "grid_auto_flow": null,
            "grid_auto_rows": null,
            "grid_column": null,
            "grid_gap": null,
            "grid_row": null,
            "grid_template_areas": null,
            "grid_template_columns": null,
            "grid_template_rows": null,
            "height": null,
            "justify_content": null,
            "justify_items": null,
            "left": null,
            "margin": null,
            "max_height": null,
            "max_width": null,
            "min_height": null,
            "min_width": null,
            "object_fit": null,
            "object_position": null,
            "order": null,
            "overflow": null,
            "overflow_x": null,
            "overflow_y": null,
            "padding": null,
            "right": null,
            "top": null,
            "visibility": null,
            "width": null
          }
        },
        "d255f49c1a28491c8138055d2fae48bd": {
          "model_module": "@jupyter-widgets/controls",
          "model_module_version": "1.5.0",
          "model_name": "HTMLModel",
          "state": {
            "_dom_classes": [],
            "_model_module": "@jupyter-widgets/controls",
            "_model_module_version": "1.5.0",
            "_model_name": "HTMLModel",
            "_view_count": null,
            "_view_module": "@jupyter-widgets/controls",
            "_view_module_version": "1.5.0",
            "_view_name": "HTMLView",
            "description": "",
            "description_tooltip": null,
            "layout": "IPY_MODEL_de7490f9c9f846f582857f433b1ae035",
            "placeholder": "​",
            "style": "IPY_MODEL_ddd77148fe85465194e41f5109ba17ae",
            "value": "kion dataset download: 100%"
          }
        },
        "ddd77148fe85465194e41f5109ba17ae": {
          "model_module": "@jupyter-widgets/controls",
          "model_module_version": "1.5.0",
          "model_name": "DescriptionStyleModel",
          "state": {
            "_model_module": "@jupyter-widgets/controls",
            "_model_module_version": "1.5.0",
            "_model_name": "DescriptionStyleModel",
            "_view_count": null,
            "_view_module": "@jupyter-widgets/base",
            "_view_module_version": "1.2.0",
            "_view_name": "StyleView",
            "description_width": ""
          }
        },
        "de7490f9c9f846f582857f433b1ae035": {
          "model_module": "@jupyter-widgets/base",
          "model_module_version": "1.2.0",
          "model_name": "LayoutModel",
          "state": {
            "_model_module": "@jupyter-widgets/base",
            "_model_module_version": "1.2.0",
            "_model_name": "LayoutModel",
            "_view_count": null,
            "_view_module": "@jupyter-widgets/base",
            "_view_module_version": "1.2.0",
            "_view_name": "LayoutView",
            "align_content": null,
            "align_items": null,
            "align_self": null,
            "border": null,
            "bottom": null,
            "display": null,
            "flex": null,
            "flex_flow": null,
            "grid_area": null,
            "grid_auto_columns": null,
            "grid_auto_flow": null,
            "grid_auto_rows": null,
            "grid_column": null,
            "grid_gap": null,
            "grid_row": null,
            "grid_template_areas": null,
            "grid_template_columns": null,
            "grid_template_rows": null,
            "height": null,
            "justify_content": null,
            "justify_items": null,
            "left": null,
            "margin": null,
            "max_height": null,
            "max_width": null,
            "min_height": null,
            "min_width": null,
            "object_fit": null,
            "object_position": null,
            "order": null,
            "overflow": null,
            "overflow_x": null,
            "overflow_y": null,
            "padding": null,
            "right": null,
            "top": null,
            "visibility": null,
            "width": null
          }
        },
        "ec3e18feb0924907b610a376bcbfc958": {
          "model_module": "@jupyter-widgets/base",
          "model_module_version": "1.2.0",
          "model_name": "LayoutModel",
          "state": {
            "_model_module": "@jupyter-widgets/base",
            "_model_module_version": "1.2.0",
            "_model_name": "LayoutModel",
            "_view_count": null,
            "_view_module": "@jupyter-widgets/base",
            "_view_module_version": "1.2.0",
            "_view_name": "LayoutView",
            "align_content": null,
            "align_items": null,
            "align_self": null,
            "border": null,
            "bottom": null,
            "display": null,
            "flex": null,
            "flex_flow": null,
            "grid_area": null,
            "grid_auto_columns": null,
            "grid_auto_flow": null,
            "grid_auto_rows": null,
            "grid_column": null,
            "grid_gap": null,
            "grid_row": null,
            "grid_template_areas": null,
            "grid_template_columns": null,
            "grid_template_rows": null,
            "height": null,
            "justify_content": null,
            "justify_items": null,
            "left": null,
            "margin": null,
            "max_height": null,
            "max_width": null,
            "min_height": null,
            "min_width": null,
            "object_fit": null,
            "object_position": null,
            "order": null,
            "overflow": null,
            "overflow_x": null,
            "overflow_y": null,
            "padding": null,
            "right": null,
            "top": null,
            "visibility": null,
            "width": null
          }
        }
      }
    }
  },
  "nbformat": 4,
  "nbformat_minor": 0
}
