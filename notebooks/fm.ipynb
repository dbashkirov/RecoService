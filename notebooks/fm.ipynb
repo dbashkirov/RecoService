{
 "cells": [
  {
   "cell_type": "code",
   "execution_count": 52,
   "metadata": {},
   "outputs": [],
   "source": [
    "import pandas as pd\n",
    "import numpy as np\n",
    "\n",
    "from implicit.als import AlternatingLeastSquares\n",
    "\n",
    "from rectools.metrics import Precision, Recall, MAP, calc_metrics\n",
    "from rectools.models import PopularModel, ImplicitALSWrapperModel\n",
    "from rectools import Columns\n",
    "from rectools.dataset import Dataset\n",
    "\n",
    "from pathlib import Path\n",
    "import typing as tp\n",
    "from tqdm import tqdm\n",
    "\n",
    "import optuna\n",
    "import nmslib"
   ]
  },
  {
   "cell_type": "code",
   "execution_count": 2,
   "metadata": {},
   "outputs": [],
   "source": [
    "DATA_PATH = Path(\"../data_original\")"
   ]
  },
  {
   "cell_type": "code",
   "execution_count": 3,
   "metadata": {},
   "outputs": [
    {
     "name": "stdout",
     "output_type": "stream",
     "text": [
      "CPU times: user 2.79 s, sys: 1.24 s, total: 4.03 s\n",
      "Wall time: 4.06 s\n"
     ]
    }
   ],
   "source": [
    "%%time\n",
    "users = pd.read_csv(DATA_PATH / 'users.csv')\n",
    "items = pd.read_csv(DATA_PATH / 'items.csv')\n",
    "interactions = pd.read_csv(DATA_PATH / 'interactions.csv')"
   ]
  },
  {
   "cell_type": "code",
   "execution_count": 4,
   "metadata": {},
   "outputs": [],
   "source": [
    "def prepare_interactions(interactions: pd.DataFrame, test_size=7):\n",
    "    Columns.Datetime = 'last_watch_dt'\n",
    "    interactions = interactions.drop(interactions[interactions[Columns.Datetime].str.len() != 10].index)\n",
    "    interactions[Columns.Datetime] = pd.to_datetime(interactions[Columns.Datetime], format='%Y-%m-%d')\n",
    "    interactions[Columns.Weight] = np.where(interactions['watched_pct'] > 10, 3, 1)\n",
    "    max_date = interactions[Columns.Datetime].max()\n",
    "    train = interactions[interactions[Columns.Datetime] < max_date - pd.Timedelta(days=test_size)].copy()\n",
    "    test = interactions[interactions[Columns.Datetime] >= max_date - pd.Timedelta(days=test_size)].copy()\n",
    "    return train, test"
   ]
  },
  {
   "cell_type": "code",
   "execution_count": 5,
   "metadata": {},
   "outputs": [
    {
     "name": "stdout",
     "output_type": "stream",
     "text": [
      "train: (4985269, 6)\n",
      "test: (490982, 6)\n"
     ]
    }
   ],
   "source": [
    "train, test = prepare_interactions(interactions)\n",
    "\n",
    "print(f\"train: {train.shape}\")\n",
    "print(f\"test: {test.shape}\")"
   ]
  },
  {
   "cell_type": "code",
   "execution_count": 6,
   "metadata": {},
   "outputs": [],
   "source": [
    "train.drop(train.query(\"total_dur < 300\").index, inplace=True)"
   ]
  },
  {
   "cell_type": "code",
   "execution_count": 7,
   "metadata": {},
   "outputs": [],
   "source": [
    "# отфильтруем холодных пользователей из теста\n",
    "cold_users = set(test[Columns.User]) - set(train[Columns.User])"
   ]
  },
  {
   "cell_type": "code",
   "execution_count": 8,
   "metadata": {},
   "outputs": [],
   "source": [
    "test.drop(test[test[Columns.User].isin(cold_users)].index, inplace=True)"
   ]
  },
  {
   "cell_type": "code",
   "execution_count": 9,
   "metadata": {},
   "outputs": [],
   "source": [
    "users = users.loc[users[Columns.User].isin(train[Columns.User])].copy()"
   ]
  },
  {
   "cell_type": "code",
   "execution_count": 10,
   "metadata": {},
   "outputs": [],
   "source": [
    "def prepare_users(users: pd.DataFrame):\n",
    "    users.fillna('Unknown', inplace=True)\n",
    "    user_features_frames = []\n",
    "    for feature in [\"sex\", \"age\", \"income\"]:\n",
    "        feature_frame = users.reindex(columns=[Columns.User, feature])\n",
    "        feature_frame.columns = [\"id\", \"value\"]\n",
    "        feature_frame[\"feature\"] = feature\n",
    "        user_features_frames.append(feature_frame)\n",
    "    user_features = pd.concat(user_features_frames)\n",
    "    return user_features"
   ]
  },
  {
   "cell_type": "code",
   "execution_count": 11,
   "metadata": {},
   "outputs": [
    {
     "data": {
      "text/html": [
       "<div>\n",
       "<style scoped>\n",
       "    .dataframe tbody tr th:only-of-type {\n",
       "        vertical-align: middle;\n",
       "    }\n",
       "\n",
       "    .dataframe tbody tr th {\n",
       "        vertical-align: top;\n",
       "    }\n",
       "\n",
       "    .dataframe thead th {\n",
       "        text-align: right;\n",
       "    }\n",
       "</style>\n",
       "<table border=\"1\" class=\"dataframe\">\n",
       "  <thead>\n",
       "    <tr style=\"text-align: right;\">\n",
       "      <th></th>\n",
       "      <th>id</th>\n",
       "      <th>value</th>\n",
       "      <th>feature</th>\n",
       "    </tr>\n",
       "  </thead>\n",
       "  <tbody>\n",
       "    <tr>\n",
       "      <th>0</th>\n",
       "      <td>973171</td>\n",
       "      <td>М</td>\n",
       "      <td>sex</td>\n",
       "    </tr>\n",
       "    <tr>\n",
       "      <th>1</th>\n",
       "      <td>962099</td>\n",
       "      <td>М</td>\n",
       "      <td>sex</td>\n",
       "    </tr>\n",
       "    <tr>\n",
       "      <th>3</th>\n",
       "      <td>721985</td>\n",
       "      <td>Ж</td>\n",
       "      <td>sex</td>\n",
       "    </tr>\n",
       "    <tr>\n",
       "      <th>4</th>\n",
       "      <td>704055</td>\n",
       "      <td>Ж</td>\n",
       "      <td>sex</td>\n",
       "    </tr>\n",
       "    <tr>\n",
       "      <th>5</th>\n",
       "      <td>1037719</td>\n",
       "      <td>М</td>\n",
       "      <td>sex</td>\n",
       "    </tr>\n",
       "  </tbody>\n",
       "</table>\n",
       "</div>"
      ],
      "text/plain": [
       "        id value feature\n",
       "0   973171     М     sex\n",
       "1   962099     М     sex\n",
       "3   721985     Ж     sex\n",
       "4   704055     Ж     sex\n",
       "5  1037719     М     sex"
      ]
     },
     "execution_count": 11,
     "metadata": {},
     "output_type": "execute_result"
    }
   ],
   "source": [
    "user_features = prepare_users(users)\n",
    "user_features.head()"
   ]
  },
  {
   "cell_type": "code",
   "execution_count": 12,
   "metadata": {},
   "outputs": [],
   "source": [
    "items = items.loc[items[Columns.Item].isin(train[Columns.Item])].copy()"
   ]
  },
  {
   "cell_type": "code",
   "execution_count": 13,
   "metadata": {},
   "outputs": [],
   "source": [
    "def prepare_items(items: pd.DataFrame):\n",
    "    # Explode genres to flatten table\n",
    "    items[\"genre\"] = items[\"genres\"].str.lower().str.replace(\", \", \",\", regex=False).str.split(\",\")\n",
    "    genre_feature = items[[\"item_id\", \"genre\"]].explode(\"genre\")\n",
    "    genre_feature.columns = [\"id\", \"value\"]\n",
    "    genre_feature[\"feature\"] = \"genre\"\n",
    "\n",
    "    # # Explode directors to flatten table\n",
    "    # items[\"directors\"] = items[\"directors\"].str.lower().str.replace(\", \", \",\", regex=False).str.split(\",\")\n",
    "    # director_feature = items[[\"item_id\", \"directors\"]].explode(\"directors\")\n",
    "    # director_feature.columns = [\"id\", \"value\"]\n",
    "    # director_feature[\"feature\"] = \"directors\"\n",
    "    # director_feature.head()\n",
    "\n",
    "    item_features_frames = []\n",
    "    for feature in [\"content_type\"\n",
    "                    # , \"release_year\"\n",
    "                    ]:\n",
    "        feature_frame = items.reindex(columns=[Columns.Item, feature])\n",
    "        feature_frame.columns = [\"id\", \"value\"]\n",
    "        feature_frame[\"feature\"] = feature\n",
    "        item_features_frames.append(feature_frame)\n",
    "    item_feat = pd.concat(item_features_frames)\n",
    "    \n",
    "    item_features = pd.concat((genre_feature, item_feat))\n",
    "\n",
    "    return item_features"
   ]
  },
  {
   "cell_type": "code",
   "execution_count": 14,
   "metadata": {},
   "outputs": [
    {
     "data": {
      "text/plain": [
       "(50224, 3)"
      ]
     },
     "execution_count": 14,
     "metadata": {},
     "output_type": "execute_result"
    }
   ],
   "source": [
    "item_features = prepare_items(items)\n",
    "# item_features = pd.concat((item_features, item_feat))\n",
    "item_features.shape"
   ]
  },
  {
   "cell_type": "code",
   "execution_count": 15,
   "metadata": {},
   "outputs": [],
   "source": [
    "metrics = {\n",
    "    'Precision@10': Precision(k=10),\n",
    "    'Recall@10': Recall(k=10),\n",
    "    'MAP@10': MAP(k=10),\n",
    "}"
   ]
  },
  {
   "cell_type": "code",
   "execution_count": 16,
   "metadata": {},
   "outputs": [],
   "source": [
    "K_RECOS = 10\n",
    "RANDOM_STATE = 42\n",
    "NUM_THREADS = 16\n",
    "N_FACTORS = (32, 64)"
   ]
  },
  {
   "cell_type": "code",
   "execution_count": 17,
   "metadata": {},
   "outputs": [],
   "source": [
    "models = {\n",
    "    'popular': PopularModel(),\n",
    "}"
   ]
  },
  {
   "cell_type": "code",
   "execution_count": 18,
   "metadata": {},
   "outputs": [
    {
     "name": "stderr",
     "output_type": "stream",
     "text": [
      "/home/projects/RecoService/.venv/lib/python3.10/site-packages/implicit/cpu/als.py:95: RuntimeWarning: OpenBLAS is configured to use 4 threads. It is highly recommended to disable its internal threadpool by setting the environment variable 'OPENBLAS_NUM_THREADS=1' or by calling 'threadpoolctl.threadpool_limits(1, \"blas\")'. Having OpenBLAS use a threadpool can lead to severe performance issues here.\n",
      "  check_blas_config()\n"
     ]
    }
   ],
   "source": [
    "implicit_models = {\n",
    "    'ALS': AlternatingLeastSquares,\n",
    "}\n",
    "for implicit_name, implicit_model in implicit_models.items():\n",
    "    for n_factors in N_FACTORS:\n",
    "        models[f\"{implicit_name}_{n_factors}\"] = (\n",
    "            ImplicitALSWrapperModel(\n",
    "                model=implicit_model(\n",
    "                    factors=n_factors, \n",
    "                    random_state=RANDOM_STATE, \n",
    "                    num_threads=NUM_THREADS,\n",
    "                ),\n",
    "                fit_features_together=True,\n",
    "            )\n",
    "        )"
   ]
  },
  {
   "cell_type": "code",
   "execution_count": 19,
   "metadata": {},
   "outputs": [
    {
     "data": {
      "text/plain": [
       "{'popular': <rectools.models.popular.PopularModel at 0x7fceb0379a80>,\n",
       " 'ALS_32': <rectools.models.implicit_als.ImplicitALSWrapperModel at 0x7fceb037abc0>,\n",
       " 'ALS_64': <rectools.models.implicit_als.ImplicitALSWrapperModel at 0x7fcee4782d70>}"
      ]
     },
     "execution_count": 19,
     "metadata": {},
     "output_type": "execute_result"
    }
   ],
   "source": [
    "models"
   ]
  },
  {
   "cell_type": "code",
   "execution_count": 20,
   "metadata": {},
   "outputs": [
    {
     "name": "stdout",
     "output_type": "stream",
     "text": [
      "CPU times: user 1.25 s, sys: 139 ms, total: 1.39 s\n",
      "Wall time: 1.39 s\n"
     ]
    }
   ],
   "source": [
    "%%time\n",
    "dataset = Dataset.construct(\n",
    "    interactions_df=train,\n",
    "    user_features_df=user_features,\n",
    "    cat_user_features=[\"sex\", \"age\", \"income\", \"kids_flg\"],\n",
    "    item_features_df=item_features,\n",
    "    cat_item_features=[\"genre\", \"content_type\"],\n",
    ")"
   ]
  },
  {
   "cell_type": "code",
   "execution_count": 21,
   "metadata": {},
   "outputs": [],
   "source": [
    "TEST_USERS = test[Columns.User].unique()"
   ]
  },
  {
   "cell_type": "code",
   "execution_count": 65,
   "metadata": {},
   "outputs": [
    {
     "name": "stdout",
     "output_type": "stream",
     "text": [
      "Fitting model popular...\n",
      "Fitting model ALS_32...\n"
     ]
    },
    {
     "name": "stderr",
     "output_type": "stream",
     "text": [
      "/home/projects/RecoService/.venv/lib/python3.10/site-packages/rectools/dataset/features.py:399: UserWarning: Converting sparse features to dense array may cause MemoryError\n",
      "  warnings.warn(\"Converting sparse features to dense array may cause MemoryError\")\n"
     ]
    },
    {
     "name": "stdout",
     "output_type": "stream",
     "text": [
      "Fitting model ALS_64...\n"
     ]
    },
    {
     "name": "stderr",
     "output_type": "stream",
     "text": [
      "/home/projects/RecoService/.venv/lib/python3.10/site-packages/rectools/dataset/features.py:399: UserWarning: Converting sparse features to dense array may cause MemoryError\n",
      "  warnings.warn(\"Converting sparse features to dense array may cause MemoryError\")\n"
     ]
    },
    {
     "name": "stdout",
     "output_type": "stream",
     "text": [
      "CPU times: user 35min 27s, sys: 43min 3s, total: 1h 18min 31s\n",
      "Wall time: 20min 23s\n"
     ]
    }
   ],
   "source": [
    "%%time\n",
    "results = []\n",
    "for model_name, model in models.items():\n",
    "    print(f\"Fitting model {model_name}...\")\n",
    "    model_quality = {'model': model_name}\n",
    "\n",
    "    model.fit(dataset)\n",
    "    recos = model.recommend(\n",
    "        users=TEST_USERS,\n",
    "        dataset=dataset,\n",
    "        k=K_RECOS,\n",
    "        filter_viewed=True,\n",
    "    )\n",
    "    \n",
    "    metric_values = calc_metrics(metrics, recos, test, train)\n",
    "    model_quality.update(metric_values)\n",
    "    results.append(model_quality)"
   ]
  },
  {
   "cell_type": "code",
   "execution_count": 66,
   "metadata": {},
   "outputs": [],
   "source": [
    "df_quality = pd.DataFrame(results).T\n",
    "\n",
    "df_quality.columns = df_quality.iloc[0]\n",
    "\n",
    "df_quality.drop('model', inplace=True)"
   ]
  },
  {
   "cell_type": "code",
   "execution_count": 45,
   "metadata": {},
   "outputs": [
    {
     "data": {
      "text/html": [
       "<style type=\"text/css\">\n",
       "#T_9e132_row0_col0, #T_9e132_row1_col0, #T_9e132_row2_col1 {\n",
       "  background-color: lightgreen;\n",
       "}\n",
       "</style>\n",
       "<table id=\"T_9e132\">\n",
       "  <thead>\n",
       "    <tr>\n",
       "      <th class=\"index_name level0\" >model</th>\n",
       "      <th id=\"T_9e132_level0_col0\" class=\"col_heading level0 col0\" >popular</th>\n",
       "      <th id=\"T_9e132_level0_col1\" class=\"col_heading level0 col1\" >ALS_32</th>\n",
       "      <th id=\"T_9e132_level0_col2\" class=\"col_heading level0 col2\" >ALS_64</th>\n",
       "    </tr>\n",
       "  </thead>\n",
       "  <tbody>\n",
       "    <tr>\n",
       "      <th id=\"T_9e132_level0_row0\" class=\"row_heading level0 row0\" >Precision@10</th>\n",
       "      <td id=\"T_9e132_row0_col0\" class=\"data row0 col0\" >0.032803</td>\n",
       "      <td id=\"T_9e132_row0_col1\" class=\"data row0 col1\" >0.031024</td>\n",
       "      <td id=\"T_9e132_row0_col2\" class=\"data row0 col2\" >0.030943</td>\n",
       "    </tr>\n",
       "    <tr>\n",
       "      <th id=\"T_9e132_level0_row1\" class=\"row_heading level0 row1\" >Recall@10</th>\n",
       "      <td id=\"T_9e132_row1_col0\" class=\"data row1 col0\" >0.156070</td>\n",
       "      <td id=\"T_9e132_row1_col1\" class=\"data row1 col1\" >0.144221</td>\n",
       "      <td id=\"T_9e132_row1_col2\" class=\"data row1 col2\" >0.143310</td>\n",
       "    </tr>\n",
       "    <tr>\n",
       "      <th id=\"T_9e132_level0_row2\" class=\"row_heading level0 row2\" >MAP@10</th>\n",
       "      <td id=\"T_9e132_row2_col0\" class=\"data row2 col0\" >0.073836</td>\n",
       "      <td id=\"T_9e132_row2_col1\" class=\"data row2 col1\" >0.074917</td>\n",
       "      <td id=\"T_9e132_row2_col2\" class=\"data row2 col2\" >0.073967</td>\n",
       "    </tr>\n",
       "  </tbody>\n",
       "</table>\n"
      ],
      "text/plain": [
       "<pandas.io.formats.style.Styler at 0x7f8e61a11cf0>"
      ]
     },
     "execution_count": 45,
     "metadata": {},
     "output_type": "execute_result"
    }
   ],
   "source": [
    "df_quality.style.highlight_max(color='lightgreen', axis=1)"
   ]
  },
  {
   "cell_type": "markdown",
   "metadata": {},
   "source": [
    "### Optuna"
   ]
  },
  {
   "cell_type": "code",
   "execution_count": 22,
   "metadata": {},
   "outputs": [],
   "source": [
    "def objective(trial):\n",
    "    param = {\n",
    "        \"factors\": trial.suggest_int(\"factors\", 16, 64),\n",
    "        \"regularization\": trial.suggest_float(\"regularization\", 0.01, 0.05),\n",
    "        \"alpha\": trial.suggest_float(\"alpha\", 0.05, 1),\n",
    "        \"random_state\": RANDOM_STATE,\n",
    "    }\n",
    "    model = ImplicitALSWrapperModel(\n",
    "                model=implicit_model(\n",
    "                    **param\n",
    "                ),\n",
    "                fit_features_together=True,\n",
    "            )\n",
    "    model.fit(dataset)\n",
    "    recos = model.recommend(\n",
    "        users=TEST_USERS,\n",
    "        dataset=dataset,\n",
    "        k=10,\n",
    "        filter_viewed=True,\n",
    "    )\n",
    "\n",
    "    metric_value = calc_metrics({\"MAP@10\": MAP(k=10)}, recos, test, train)[\"MAP@10\"]\n",
    "    return metric_value"
   ]
  },
  {
   "cell_type": "code",
   "execution_count": 23,
   "metadata": {},
   "outputs": [
    {
     "name": "stderr",
     "output_type": "stream",
     "text": [
      "[I 2023-12-24 11:45:23,163] A new study created in memory with name: no-name-df93be79-a8da-4924-a036-b810bd18a7c3\n"
     ]
    },
    {
     "data": {
      "application/vnd.jupyter.widget-view+json": {
       "model_id": "bd4e7d8e65bf4fd2b1ae94fceb101236",
       "version_major": 2,
       "version_minor": 0
      },
      "text/plain": [
       "  0%|          | 0/10 [00:00<?, ?it/s]"
      ]
     },
     "metadata": {},
     "output_type": "display_data"
    },
    {
     "name": "stderr",
     "output_type": "stream",
     "text": [
      "/home/projects/RecoService/.venv/lib/python3.10/site-packages/rectools/dataset/features.py:399: UserWarning: Converting sparse features to dense array may cause MemoryError\n",
      "  warnings.warn(\"Converting sparse features to dense array may cause MemoryError\")\n"
     ]
    },
    {
     "name": "stdout",
     "output_type": "stream",
     "text": [
      "[I 2023-12-24 12:22:27,709] Trial 3 finished with value: 0.07503704775299193 and parameters: {'factors': 48, 'regularization': 0.021885984185420697, 'alpha': 0.45581029766356507}. Best is trial 3 with value: 0.07503704775299193.\n"
     ]
    },
    {
     "name": "stderr",
     "output_type": "stream",
     "text": [
      "/home/projects/RecoService/.venv/lib/python3.10/site-packages/rectools/dataset/features.py:399: UserWarning: Converting sparse features to dense array may cause MemoryError\n",
      "  warnings.warn(\"Converting sparse features to dense array may cause MemoryError\")\n"
     ]
    },
    {
     "name": "stdout",
     "output_type": "stream",
     "text": [
      "[I 2023-12-24 12:22:56,367] Trial 1 finished with value: 0.07614787515934723 and parameters: {'factors': 35, 'regularization': 0.015020934354370779, 'alpha': 0.15927943685861523}. Best is trial 1 with value: 0.07614787515934723.\n"
     ]
    },
    {
     "name": "stderr",
     "output_type": "stream",
     "text": [
      "/home/projects/RecoService/.venv/lib/python3.10/site-packages/rectools/dataset/features.py:399: UserWarning: Converting sparse features to dense array may cause MemoryError\n",
      "  warnings.warn(\"Converting sparse features to dense array may cause MemoryError\")\n"
     ]
    },
    {
     "name": "stdout",
     "output_type": "stream",
     "text": [
      "[I 2023-12-24 12:23:48,358] Trial 2 finished with value: 0.07535327615970797 and parameters: {'factors': 42, 'regularization': 0.021465114146510308, 'alpha': 0.5636219256375214}. Best is trial 1 with value: 0.07614787515934723.\n",
      "[I 2023-12-24 12:23:48,543] Trial 0 finished with value: 0.07564838897280246 and parameters: {'factors': 30, 'regularization': 0.03, 'alpha': 0.5}. Best is trial 1 with value: 0.07614787515934723.\n"
     ]
    },
    {
     "name": "stderr",
     "output_type": "stream",
     "text": [
      "/home/projects/RecoService/.venv/lib/python3.10/site-packages/rectools/dataset/features.py:399: UserWarning: Converting sparse features to dense array may cause MemoryError\n",
      "  warnings.warn(\"Converting sparse features to dense array may cause MemoryError\")\n"
     ]
    },
    {
     "name": "stdout",
     "output_type": "stream",
     "text": [
      "[I 2023-12-24 13:03:00,950] Trial 4 finished with value: 0.07446528969254806 and parameters: {'factors': 16, 'regularization': 0.042432299318720494, 'alpha': 0.9637762169156807}. Best is trial 1 with value: 0.07614787515934723.\n"
     ]
    },
    {
     "name": "stderr",
     "output_type": "stream",
     "text": [
      "/home/projects/RecoService/.venv/lib/python3.10/site-packages/rectools/dataset/features.py:399: UserWarning: Converting sparse features to dense array may cause MemoryError\n",
      "  warnings.warn(\"Converting sparse features to dense array may cause MemoryError\")\n"
     ]
    },
    {
     "name": "stdout",
     "output_type": "stream",
     "text": [
      "[I 2023-12-24 13:06:43,368] Trial 5 finished with value: 0.07442299790127284 and parameters: {'factors': 58, 'regularization': 0.0261793229592841, 'alpha': 0.9291759324175843}. Best is trial 1 with value: 0.07614787515934723.\n"
     ]
    },
    {
     "name": "stderr",
     "output_type": "stream",
     "text": [
      "/home/projects/RecoService/.venv/lib/python3.10/site-packages/rectools/dataset/features.py:399: UserWarning: Converting sparse features to dense array may cause MemoryError\n",
      "  warnings.warn(\"Converting sparse features to dense array may cause MemoryError\")\n"
     ]
    },
    {
     "name": "stdout",
     "output_type": "stream",
     "text": [
      "[I 2023-12-24 13:07:34,454] Trial 7 finished with value: 0.07655059926977245 and parameters: {'factors': 52, 'regularization': 0.03458539892561771, 'alpha': 0.1964018837464644}. Best is trial 7 with value: 0.07655059926977245.\n",
      "[I 2023-12-24 13:08:15,482] Trial 6 finished with value: 0.07652474221094695 and parameters: {'factors': 41, 'regularization': 0.03105693383299247, 'alpha': 0.11325359890372698}. Best is trial 7 with value: 0.07655059926977245.\n",
      "[I 2023-12-24 13:16:39,608] Trial 8 finished with value: 0.07483031360255969 and parameters: {'factors': 24, 'regularization': 0.029687236566962608, 'alpha': 0.9020231876385665}. Best is trial 7 with value: 0.07655059926977245.\n",
      "[I 2023-12-24 13:17:18,706] Trial 9 finished with value: 0.07617435993391572 and parameters: {'factors': 54, 'regularization': 0.04587249802731701, 'alpha': 0.4052353107829702}. Best is trial 7 with value: 0.07655059926977245.\n",
      "Best trial value: 0.07655059926977245\n",
      "Best params: \n",
      "factors: 52\n",
      "regularization: 0.03458539892561771\n",
      "alpha: 0.1964018837464644\n"
     ]
    }
   ],
   "source": [
    "study = optuna.create_study(direction=\"maximize\")\n",
    "study.enqueue_trial(\n",
    "    {\n",
    "        'factors': 30, \n",
    "        'regularization': 0.03, \n",
    "        'random_state': 42, \n",
    "        'alpha': 0.5, \n",
    "    }\n",
    ")\n",
    "\n",
    "study.optimize(objective, n_trials=10, show_progress_bar=True, n_jobs=-1)\n",
    "\n",
    "trial = study.best_trial\n",
    "\n",
    "print(f\"Best trial value: {trial.value}\")\n",
    "\n",
    "print(\"Best params: \")\n",
    "for key, value in trial.params.items():\n",
    "    print(f\"{key}: {value}\")"
   ]
  },
  {
   "cell_type": "code",
   "execution_count": 25,
   "metadata": {},
   "outputs": [
    {
     "data": {
      "text/plain": [
       "{'factors': 52,\n",
       " 'regularization': 0.03458539892561771,\n",
       " 'alpha': 0.1964018837464644}"
      ]
     },
     "execution_count": 25,
     "metadata": {},
     "output_type": "execute_result"
    }
   ],
   "source": [
    "trial.params"
   ]
  },
  {
   "cell_type": "code",
   "execution_count": 26,
   "metadata": {},
   "outputs": [],
   "source": [
    "als_model = ImplicitALSWrapperModel(\n",
    "                model=implicit_model(\n",
    "                    **trial.params,\n",
    "                    random_state=RANDOM_STATE\n",
    "                ),\n",
    "                fit_features_together=True,\n",
    "            )\n",
    "\n",
    "users = pd.read_csv(DATA_PATH / 'users.csv')\n",
    "items = pd.read_csv(DATA_PATH / 'items.csv')\n",
    "interactions = pd.read_csv(DATA_PATH / 'interactions.csv')\n",
    "\n",
    "train, _ = prepare_interactions(interactions, test_size=-1)\n",
    "\n",
    "users = users.loc[users[Columns.User].isin(train[Columns.User])].copy()\n",
    "user_features = prepare_users(users)\n",
    "\n",
    "items = items.loc[items[Columns.Item].isin(train[Columns.Item])].copy()\n",
    "item_features = prepare_items(items)\n",
    "\n",
    "dataset = Dataset.construct(\n",
    "    interactions_df=train,\n",
    "    user_features_df=user_features,\n",
    "    cat_user_features=[\"sex\", \"age\", \"income\"],\n",
    "    item_features_df=item_features,\n",
    "    cat_item_features=[\"genre\", \"content_type\"],\n",
    ")"
   ]
  },
  {
   "cell_type": "code",
   "execution_count": 27,
   "metadata": {},
   "outputs": [
    {
     "name": "stderr",
     "output_type": "stream",
     "text": [
      "/home/projects/RecoService/.venv/lib/python3.10/site-packages/rectools/dataset/features.py:399: UserWarning: Converting sparse features to dense array may cause MemoryError\n",
      "  warnings.warn(\"Converting sparse features to dense array may cause MemoryError\")\n"
     ]
    },
    {
     "data": {
      "text/plain": [
       "<rectools.models.implicit_als.ImplicitALSWrapperModel at 0x7fceac58cd90>"
      ]
     },
     "execution_count": 27,
     "metadata": {},
     "output_type": "execute_result"
    }
   ],
   "source": [
    "als_model.fit(dataset)"
   ]
  },
  {
   "cell_type": "code",
   "execution_count": 28,
   "metadata": {},
   "outputs": [],
   "source": [
    "TEST_USERS = list(train.user_id.unique())"
   ]
  },
  {
   "cell_type": "code",
   "execution_count": 29,
   "metadata": {},
   "outputs": [],
   "source": [
    "recos = als_model.recommend(\n",
    "    users=TEST_USERS,\n",
    "    dataset=dataset,\n",
    "    k=K_RECOS,\n",
    "    filter_viewed=True,\n",
    ")"
   ]
  },
  {
   "cell_type": "code",
   "execution_count": 30,
   "metadata": {},
   "outputs": [],
   "source": [
    "recos.sort_values(by=[\"user_id\", \"rank\"], ascending=True, inplace=True)"
   ]
  },
  {
   "cell_type": "code",
   "execution_count": 31,
   "metadata": {},
   "outputs": [
    {
     "data": {
      "text/plain": [
       "array([-1, -1, -1, ..., -1, -1, -1])"
      ]
     },
     "execution_count": 31,
     "metadata": {},
     "output_type": "execute_result"
    }
   ],
   "source": [
    "empty_recs = np.zeros(recos.shape[0] * 10, dtype=int) - 1\n",
    "empty_recs"
   ]
  },
  {
   "cell_type": "code",
   "execution_count": 32,
   "metadata": {},
   "outputs": [],
   "source": [
    "recos[\"rrank\"] = recos[\"rank\"] - 1\n",
    "recos[\"uuid\"] = recos[\"user_id\"] * 10 + recos[\"rrank\"]"
   ]
  },
  {
   "cell_type": "code",
   "execution_count": 33,
   "metadata": {},
   "outputs": [],
   "source": [
    "empty_recs[recos[\"uuid\"].values] = recos[\"item_id\"].values"
   ]
  },
  {
   "cell_type": "code",
   "execution_count": 34,
   "metadata": {},
   "outputs": [
    {
     "data": {
      "text/plain": [
       "array([ True,  True,  True,  True,  True,  True,  True,  True,  True,\n",
       "        True])"
      ]
     },
     "execution_count": 34,
     "metadata": {},
     "output_type": "execute_result"
    }
   ],
   "source": [
    "user_id = 23\n",
    "empty_recs[user_id * 10: user_id * 10 + K_RECOS] == recos.loc[recos[\"user_id\"] == user_id, \"item_id\"].values"
   ]
  },
  {
   "cell_type": "code",
   "execution_count": 35,
   "metadata": {},
   "outputs": [],
   "source": [
    "np.save(\"../files/als_recos.npy\", empty_recs)"
   ]
  },
  {
   "cell_type": "markdown",
   "metadata": {},
   "source": [
    "### nmslib"
   ]
  },
  {
   "cell_type": "code",
   "execution_count": 37,
   "metadata": {},
   "outputs": [],
   "source": [
    "user_embeddings, item_embeddings = als_model.get_vectors()"
   ]
  },
  {
   "cell_type": "code",
   "execution_count": 38,
   "metadata": {},
   "outputs": [
    {
     "data": {
      "text/plain": [
       "(15706, 166)"
      ]
     },
     "execution_count": 38,
     "metadata": {},
     "output_type": "execute_result"
    }
   ],
   "source": [
    "item_embeddings.shape"
   ]
  },
  {
   "cell_type": "code",
   "execution_count": 42,
   "metadata": {},
   "outputs": [],
   "source": [
    "def augment_inner_product(factors):\n",
    "    normed_factors = np.linalg.norm(factors, axis=1)\n",
    "    max_norm = normed_factors.max()\n",
    "    \n",
    "    extra_dim = np.sqrt(max_norm ** 2 - normed_factors ** 2).reshape(-1, 1)\n",
    "    augmented_factors = np.append(factors, extra_dim, axis=1)\n",
    "    return max_norm, augmented_factors"
   ]
  },
  {
   "cell_type": "code",
   "execution_count": 43,
   "metadata": {},
   "outputs": [
    {
     "name": "stdout",
     "output_type": "stream",
     "text": [
      "pre shape:  (15706, 166)\n"
     ]
    },
    {
     "data": {
      "text/plain": [
       "(15706, 167)"
      ]
     },
     "execution_count": 43,
     "metadata": {},
     "output_type": "execute_result"
    }
   ],
   "source": [
    "print('pre shape: ', item_embeddings.shape)\n",
    "max_norm, augmented_item_embeddings = augment_inner_product(item_embeddings)\n",
    "augmented_item_embeddings.shape"
   ]
  },
  {
   "cell_type": "code",
   "execution_count": 44,
   "metadata": {},
   "outputs": [
    {
     "data": {
      "text/plain": [
       "(962179, 167)"
      ]
     },
     "execution_count": 44,
     "metadata": {},
     "output_type": "execute_result"
    }
   ],
   "source": [
    "extra_zero = np.zeros((user_embeddings.shape[0], 1))\n",
    "augmented_user_embeddings = np.append(user_embeddings, extra_zero, axis=1)\n",
    "augmented_user_embeddings.shape"
   ]
  },
  {
   "cell_type": "code",
   "execution_count": 45,
   "metadata": {},
   "outputs": [],
   "source": [
    "user_id = 30"
   ]
  },
  {
   "cell_type": "code",
   "execution_count": 46,
   "metadata": {},
   "outputs": [
    {
     "data": {
      "text/plain": [
       "array([ 0.00000000e+00,  1.00000000e+00,  0.00000000e+00,  0.00000000e+00,\n",
       "        1.00000000e+00,  0.00000000e+00,  0.00000000e+00,  0.00000000e+00,\n",
       "        0.00000000e+00,  0.00000000e+00,  0.00000000e+00,  1.00000000e+00,\n",
       "        0.00000000e+00,  0.00000000e+00,  0.00000000e+00,  0.00000000e+00,\n",
       "        0.00000000e+00,  9.27601568e-03,  5.30983601e-03,  8.38958286e-03,\n",
       "        8.32445826e-03,  7.07935449e-03,  3.90429678e-03,  1.01826765e-04,\n",
       "       -4.87195008e-04,  4.25705966e-03,  4.33627330e-03,  3.40488087e-03,\n",
       "        5.13034966e-03,  4.77235671e-03,  7.65083404e-03,  4.12185123e-04,\n",
       "        1.59322843e-03,  7.18094362e-03,  7.77044427e-03,  9.36419982e-03,\n",
       "        7.87048973e-03,  8.22234992e-03,  2.52533262e-03,  3.48106609e-03,\n",
       "        1.93481974e-03,  5.35128638e-03,  8.68252479e-03,  2.87740398e-03,\n",
       "        4.82007582e-03,  2.32109614e-03,  9.62804130e-04,  1.33584556e-03,\n",
       "        1.42143954e-05,  8.95245560e-03,  3.32466862e-03,  7.66110653e-03,\n",
       "        6.17265655e-03,  1.24998274e-03,  1.18609879e-03,  7.46536674e-03,\n",
       "        1.96217326e-03,  8.52102041e-03,  8.08180193e-04,  6.06887881e-03,\n",
       "        7.55728129e-03,  1.68145273e-03,  2.08341773e-03,  9.03108716e-03,\n",
       "        2.01728079e-03,  3.78715573e-03,  3.71209462e-03,  2.03086087e-03,\n",
       "        7.15020858e-03,  2.36220221e-05, -4.34217975e-04,  1.39540673e-04,\n",
       "       -2.26925349e-05,  5.29227778e-04,  3.79620527e-04,  8.96311903e-05,\n",
       "       -2.03138130e-04,  1.88785867e-04, -1.00468962e-04, -6.22368025e-05,\n",
       "       -4.61459495e-05,  1.74285320e-04, -2.63174821e-04, -1.35049864e-04,\n",
       "       -1.80963645e-04,  1.42907384e-05, -1.03170329e-04, -2.23211100e-04,\n",
       "       -2.91037122e-05,  1.58540606e-05,  7.89213391e-06, -1.31419933e-04,\n",
       "        7.22120691e-04, -6.48431596e-05,  3.24996436e-05,  1.74249890e-05,\n",
       "       -4.75632733e-05,  5.25699761e-06, -5.10200989e-05,  2.53648977e-05,\n",
       "       -3.65372369e-04,  2.59241097e-05, -3.73026385e-04,  4.86759876e-04,\n",
       "       -1.52405322e-04,  1.12329617e-04,  4.94471824e-05, -5.62478162e-05,\n",
       "       -2.66953084e-05,  2.79363448e-05,  2.38948251e-05,  6.87531792e-05,\n",
       "        7.42489792e-05,  1.79081326e-04,  1.31721536e-05, -2.01596067e-05,\n",
       "       -8.09455451e-05,  6.18178592e-06, -8.44543465e-05,  3.87662185e-05,\n",
       "        4.47486200e-05, -1.09955268e-04, -9.36630749e-06, -1.89316488e-04,\n",
       "        3.77272809e-05,  1.73736058e-04,  8.47612610e-05,  9.85592997e-05,\n",
       "        6.26996552e-05, -9.90992412e-05,  6.99234806e-05,  2.77588515e-06,\n",
       "        6.16908583e-05,  1.86976285e-05,  1.08562701e-04,  1.02184422e-05,\n",
       "        6.87058273e-05, -7.35574440e-06, -1.92076564e-04, -5.35830532e-06,\n",
       "        8.29812689e-06, -4.89188416e-04,  1.42777726e-05,  1.03703402e-04,\n",
       "        5.18019770e-05,  5.96599712e-05,  4.26701554e-05,  2.11380529e-06,\n",
       "       -3.32217132e-05,  1.39051990e-05,  2.34921981e-06, -2.71669360e-05,\n",
       "        8.92936669e-07, -5.83256792e-07, -3.82346843e-06,  3.82139806e-05,\n",
       "        3.82406279e-06,  6.85276336e-06,  2.17424222e-05,  3.25339170e-05,\n",
       "        3.90160039e-06,  2.28629051e-06,  6.13803104e-06, -9.63296588e-06,\n",
       "       -1.12995156e-03, -1.17105315e-03], dtype=float32)"
      ]
     },
     "execution_count": 46,
     "metadata": {},
     "output_type": "execute_result"
    }
   ],
   "source": [
    "user_embeddings[user_id]"
   ]
  },
  {
   "cell_type": "code",
   "execution_count": 47,
   "metadata": {},
   "outputs": [
    {
     "data": {
      "text/plain": [
       "array([ 0.00000000e+00,  1.00000000e+00,  0.00000000e+00,  0.00000000e+00,\n",
       "        1.00000000e+00,  0.00000000e+00,  0.00000000e+00,  0.00000000e+00,\n",
       "        0.00000000e+00,  0.00000000e+00,  0.00000000e+00,  1.00000000e+00,\n",
       "        0.00000000e+00,  0.00000000e+00,  0.00000000e+00,  0.00000000e+00,\n",
       "        0.00000000e+00,  9.27601568e-03,  5.30983601e-03,  8.38958286e-03,\n",
       "        8.32445826e-03,  7.07935449e-03,  3.90429678e-03,  1.01826765e-04,\n",
       "       -4.87195008e-04,  4.25705966e-03,  4.33627330e-03,  3.40488087e-03,\n",
       "        5.13034966e-03,  4.77235671e-03,  7.65083404e-03,  4.12185123e-04,\n",
       "        1.59322843e-03,  7.18094362e-03,  7.77044427e-03,  9.36419982e-03,\n",
       "        7.87048973e-03,  8.22234992e-03,  2.52533262e-03,  3.48106609e-03,\n",
       "        1.93481974e-03,  5.35128638e-03,  8.68252479e-03,  2.87740398e-03,\n",
       "        4.82007582e-03,  2.32109614e-03,  9.62804130e-04,  1.33584556e-03,\n",
       "        1.42143954e-05,  8.95245560e-03,  3.32466862e-03,  7.66110653e-03,\n",
       "        6.17265655e-03,  1.24998274e-03,  1.18609879e-03,  7.46536674e-03,\n",
       "        1.96217326e-03,  8.52102041e-03,  8.08180193e-04,  6.06887881e-03,\n",
       "        7.55728129e-03,  1.68145273e-03,  2.08341773e-03,  9.03108716e-03,\n",
       "        2.01728079e-03,  3.78715573e-03,  3.71209462e-03,  2.03086087e-03,\n",
       "        7.15020858e-03,  2.36220221e-05, -4.34217975e-04,  1.39540673e-04,\n",
       "       -2.26925349e-05,  5.29227778e-04,  3.79620527e-04,  8.96311903e-05,\n",
       "       -2.03138130e-04,  1.88785867e-04, -1.00468962e-04, -6.22368025e-05,\n",
       "       -4.61459495e-05,  1.74285320e-04, -2.63174821e-04, -1.35049864e-04,\n",
       "       -1.80963645e-04,  1.42907384e-05, -1.03170329e-04, -2.23211100e-04,\n",
       "       -2.91037122e-05,  1.58540606e-05,  7.89213391e-06, -1.31419933e-04,\n",
       "        7.22120691e-04, -6.48431596e-05,  3.24996436e-05,  1.74249890e-05,\n",
       "       -4.75632733e-05,  5.25699761e-06, -5.10200989e-05,  2.53648977e-05,\n",
       "       -3.65372369e-04,  2.59241097e-05, -3.73026385e-04,  4.86759876e-04,\n",
       "       -1.52405322e-04,  1.12329617e-04,  4.94471824e-05, -5.62478162e-05,\n",
       "       -2.66953084e-05,  2.79363448e-05,  2.38948251e-05,  6.87531792e-05,\n",
       "        7.42489792e-05,  1.79081326e-04,  1.31721536e-05, -2.01596067e-05,\n",
       "       -8.09455451e-05,  6.18178592e-06, -8.44543465e-05,  3.87662185e-05,\n",
       "        4.47486200e-05, -1.09955268e-04, -9.36630749e-06, -1.89316488e-04,\n",
       "        3.77272809e-05,  1.73736058e-04,  8.47612610e-05,  9.85592997e-05,\n",
       "        6.26996552e-05, -9.90992412e-05,  6.99234806e-05,  2.77588515e-06,\n",
       "        6.16908583e-05,  1.86976285e-05,  1.08562701e-04,  1.02184422e-05,\n",
       "        6.87058273e-05, -7.35574440e-06, -1.92076564e-04, -5.35830532e-06,\n",
       "        8.29812689e-06, -4.89188416e-04,  1.42777726e-05,  1.03703402e-04,\n",
       "        5.18019770e-05,  5.96599712e-05,  4.26701554e-05,  2.11380529e-06,\n",
       "       -3.32217132e-05,  1.39051990e-05,  2.34921981e-06, -2.71669360e-05,\n",
       "        8.92936669e-07, -5.83256792e-07, -3.82346843e-06,  3.82139806e-05,\n",
       "        3.82406279e-06,  6.85276336e-06,  2.17424222e-05,  3.25339170e-05,\n",
       "        3.90160039e-06,  2.28629051e-06,  6.13803104e-06, -9.63296588e-06,\n",
       "       -1.12995156e-03, -1.17105315e-03,  0.00000000e+00])"
      ]
     },
     "execution_count": 47,
     "metadata": {},
     "output_type": "execute_result"
    }
   ],
   "source": [
    "augmented_user_embeddings[user_id]"
   ]
  },
  {
   "cell_type": "code",
   "execution_count": 48,
   "metadata": {},
   "outputs": [
    {
     "name": "stdout",
     "output_type": "stream",
     "text": [
      "Index-time parameters {'M': 48, 'indexThreadQty': 4, 'efConstruction': 100, 'post': 0}\n"
     ]
    }
   ],
   "source": [
    "# Set index parameters\n",
    "# These are the most important ones\n",
    "M = 48\n",
    "efC = 100\n",
    "\n",
    "num_threads = 4\n",
    "index_time_params = {'M': M, 'indexThreadQty': num_threads, 'efConstruction': efC, 'post' : 0}\n",
    "print('Index-time parameters', index_time_params)"
   ]
  },
  {
   "cell_type": "code",
   "execution_count": 53,
   "metadata": {},
   "outputs": [
    {
     "name": "stdout",
     "output_type": "stream",
     "text": [
      "Index-time parameters {'M': 48, 'indexThreadQty': 4, 'efConstruction': 100}\n"
     ]
    }
   ],
   "source": [
    "# Number of neighbors \n",
    "K=10\n",
    "# Space name should correspond to the space name \n",
    "# used for brute-force search\n",
    "space_name='negdotprod'\n",
    "index = nmslib.init(method='hnsw', space=space_name, data_type=nmslib.DataType.DENSE_VECTOR) \n",
    "index.addDataPointBatch(augmented_item_embeddings) \n",
    "index_time_params = {'M': M, 'indexThreadQty': num_threads, 'efConstruction': efC}\n",
    "index.createIndex(index_time_params) \n",
    "print('Index-time parameters', index_time_params)"
   ]
  },
  {
   "cell_type": "code",
   "execution_count": 54,
   "metadata": {},
   "outputs": [
    {
     "name": "stdout",
     "output_type": "stream",
     "text": [
      "Setting query-time parameters {'efSearch': 100}\n"
     ]
    }
   ],
   "source": [
    "# Setting query-time parameters\n",
    "efS = 100\n",
    "query_time_params = {'efSearch': efS}\n",
    "print('Setting query-time parameters', query_time_params)\n",
    "index.setQueryTimeParams(query_time_params)"
   ]
  },
  {
   "cell_type": "code",
   "execution_count": 55,
   "metadata": {},
   "outputs": [
    {
     "data": {
      "text/plain": [
       "(962179, 167)"
      ]
     },
     "execution_count": 55,
     "metadata": {},
     "output_type": "execute_result"
    }
   ],
   "source": [
    "augmented_user_embeddings.shape"
   ]
  },
  {
   "cell_type": "code",
   "execution_count": 56,
   "metadata": {},
   "outputs": [],
   "source": [
    "query_matrix = augmented_user_embeddings[:1000, :]"
   ]
  },
  {
   "cell_type": "code",
   "execution_count": 57,
   "metadata": {},
   "outputs": [
    {
     "data": {
      "text/plain": [
       "(1000, 167)"
      ]
     },
     "execution_count": 57,
     "metadata": {},
     "output_type": "execute_result"
    }
   ],
   "source": [
    "query_matrix.shape"
   ]
  },
  {
   "cell_type": "code",
   "execution_count": 58,
   "metadata": {},
   "outputs": [],
   "source": [
    "user_id = 10973\n",
    "one_user_matrix = augmented_user_embeddings[user_id, :]"
   ]
  },
  {
   "cell_type": "code",
   "execution_count": 59,
   "metadata": {},
   "outputs": [
    {
     "name": "stdout",
     "output_type": "stream",
     "text": [
      "CPU times: user 980 µs, sys: 1.08 ms, total: 2.06 ms\n",
      "Wall time: 1.46 ms\n"
     ]
    }
   ],
   "source": [
    "%%time\n",
    "# Querying\n",
    "nbrs = index.knnQueryBatch([one_user_matrix], k = K, num_threads = num_threads)"
   ]
  },
  {
   "cell_type": "code",
   "execution_count": 60,
   "metadata": {},
   "outputs": [
    {
     "data": {
      "text/plain": [
       "167"
      ]
     },
     "execution_count": 60,
     "metadata": {},
     "output_type": "execute_result"
    }
   ],
   "source": [
    "augmented_user_embeddings.shape[1]"
   ]
  },
  {
   "cell_type": "code",
   "execution_count": 61,
   "metadata": {},
   "outputs": [
    {
     "data": {
      "text/plain": [
       "[(array([ 32,  16,  25,  84, 174,  21,  93, 122, 370,  68], dtype=int32),\n",
       "  array([-0.10328997, -0.08343284, -0.05778901, -0.05060219, -0.04356086,\n",
       "         -0.04163088, -0.02579274, -0.02402637, -0.02157612, -0.02016769],\n",
       "        dtype=float32))]"
      ]
     },
     "execution_count": 61,
     "metadata": {},
     "output_type": "execute_result"
    }
   ],
   "source": [
    "nbrs"
   ]
  },
  {
   "cell_type": "code",
   "execution_count": null,
   "metadata": {},
   "outputs": [],
   "source": []
  }
 ],
 "metadata": {
  "kernelspec": {
   "display_name": ".venv",
   "language": "python",
   "name": "python3"
  },
  "language_info": {
   "codemirror_mode": {
    "name": "ipython",
    "version": 3
   },
   "file_extension": ".py",
   "mimetype": "text/x-python",
   "name": "python",
   "nbconvert_exporter": "python",
   "pygments_lexer": "ipython3",
   "version": "3.10.12"
  }
 },
 "nbformat": 4,
 "nbformat_minor": 2
}
